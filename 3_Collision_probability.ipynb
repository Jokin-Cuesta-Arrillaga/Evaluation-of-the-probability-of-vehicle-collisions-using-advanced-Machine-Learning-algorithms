{
  "cells": [
    {
      "cell_type": "markdown",
      "source": [
        "# COLLLISION PROBABILITY USING STACKING REGRESSION\n",
        "This notebook corresponds to Jokin Cuesta's Master's Thesis for the Master's Degree in Data Science at the UOC. In this notebook, the best model studied in the section 2 will be used to calculate the collision probability.\n",
        "\n",
        "Some of the code is inspired in Rafael Corvillo´s thesis (https://github.com/rcorvial/vehicles_collision_detector). This code is referenced in each cell as (RC)"
      ],
      "metadata": {
        "id": "GyfjCiVAceYp"
      }
    },
    {
      "cell_type": "markdown",
      "metadata": {
        "id": "GDY98F42CVgj"
      },
      "source": [
        "# 1. Load libraries and datasets"
      ]
    },
    {
      "cell_type": "code",
      "execution_count": null,
      "metadata": {
        "colab": {
          "base_uri": "https://localhost:8080/"
        },
        "id": "1NH0hmPRAIqH",
        "outputId": "21b36126-aaa0-4248-cd5c-b39429dadfa8"
      },
      "outputs": [
        {
          "output_type": "stream",
          "name": "stdout",
          "text": [
            "Looking in indexes: https://pypi.org/simple, https://us-python.pkg.dev/colab-wheels/public/simple/\n",
            "Collecting codecarbon\n",
            "  Downloading codecarbon-2.2.4-py3-none-any.whl (176 kB)\n",
            "\u001b[2K     \u001b[90m━━━━━━━━━━━━━━━━━━━━━━━━━━━━━━━━━━━━━━━\u001b[0m \u001b[32m176.0/176.0 kB\u001b[0m \u001b[31m3.2 MB/s\u001b[0m eta \u001b[36m0:00:00\u001b[0m\n",
            "\u001b[?25hCollecting arrow (from codecarbon)\n",
            "  Downloading arrow-1.2.3-py3-none-any.whl (66 kB)\n",
            "\u001b[2K     \u001b[90m━━━━━━━━━━━━━━━━━━━━━━━━━━━━━━━━━━━━━━━━\u001b[0m \u001b[32m66.4/66.4 kB\u001b[0m \u001b[31m2.9 MB/s\u001b[0m eta \u001b[36m0:00:00\u001b[0m\n",
            "\u001b[?25hRequirement already satisfied: pandas in /usr/local/lib/python3.10/dist-packages (from codecarbon) (1.5.3)\n",
            "Collecting pynvml (from codecarbon)\n",
            "  Downloading pynvml-11.5.0-py3-none-any.whl (53 kB)\n",
            "\u001b[2K     \u001b[90m━━━━━━━━━━━━━━━━━━━━━━━━━━━━━━━━━━━━━━━━\u001b[0m \u001b[32m53.1/53.1 kB\u001b[0m \u001b[31m2.6 MB/s\u001b[0m eta \u001b[36m0:00:00\u001b[0m\n",
            "\u001b[?25hRequirement already satisfied: requests in /usr/local/lib/python3.10/dist-packages (from codecarbon) (2.27.1)\n",
            "Requirement already satisfied: psutil in /usr/local/lib/python3.10/dist-packages (from codecarbon) (5.9.5)\n",
            "Requirement already satisfied: py-cpuinfo in /usr/local/lib/python3.10/dist-packages (from codecarbon) (9.0.0)\n",
            "Collecting fuzzywuzzy (from codecarbon)\n",
            "  Downloading fuzzywuzzy-0.18.0-py2.py3-none-any.whl (18 kB)\n",
            "Requirement already satisfied: click in /usr/local/lib/python3.10/dist-packages (from codecarbon) (8.1.3)\n",
            "Requirement already satisfied: python-dateutil>=2.7.0 in /usr/local/lib/python3.10/dist-packages (from arrow->codecarbon) (2.8.2)\n",
            "Requirement already satisfied: pytz>=2020.1 in /usr/local/lib/python3.10/dist-packages (from pandas->codecarbon) (2022.7.1)\n",
            "Requirement already satisfied: numpy>=1.21.0 in /usr/local/lib/python3.10/dist-packages (from pandas->codecarbon) (1.22.4)\n",
            "Requirement already satisfied: urllib3<1.27,>=1.21.1 in /usr/local/lib/python3.10/dist-packages (from requests->codecarbon) (1.26.16)\n",
            "Requirement already satisfied: certifi>=2017.4.17 in /usr/local/lib/python3.10/dist-packages (from requests->codecarbon) (2023.5.7)\n",
            "Requirement already satisfied: charset-normalizer~=2.0.0 in /usr/local/lib/python3.10/dist-packages (from requests->codecarbon) (2.0.12)\n",
            "Requirement already satisfied: idna<4,>=2.5 in /usr/local/lib/python3.10/dist-packages (from requests->codecarbon) (3.4)\n",
            "Requirement already satisfied: six>=1.5 in /usr/local/lib/python3.10/dist-packages (from python-dateutil>=2.7.0->arrow->codecarbon) (1.16.0)\n",
            "Installing collected packages: fuzzywuzzy, pynvml, arrow, codecarbon\n",
            "Successfully installed arrow-1.2.3 codecarbon-2.2.4 fuzzywuzzy-0.18.0 pynvml-11.5.0\n"
          ]
        }
      ],
      "source": [
        "!pip install codecarbon"
      ]
    },
    {
      "cell_type": "code",
      "execution_count": null,
      "metadata": {
        "id": "Ftzx2Kd0AwXB"
      },
      "outputs": [],
      "source": [
        "from google.colab import drive\n",
        "\n",
        "import pandas as pd\n",
        "import numpy as np\n",
        "import pickle\n",
        "import random\n",
        "import time\n",
        "import os\n",
        "import time\n",
        "\n",
        "import matplotlib.pyplot as plt\n",
        "\n",
        "from codecarbon import EmissionsTracker\n",
        "\n",
        "import warnings\n",
        "warnings.filterwarnings('ignore')"
      ]
    },
    {
      "cell_type": "code",
      "execution_count": null,
      "metadata": {
        "colab": {
          "base_uri": "https://localhost:8080/"
        },
        "id": "--4paNdQA3aa",
        "outputId": "b62ff78a-bd6b-45ea-f3d4-54b0581faf6d"
      },
      "outputs": [
        {
          "output_type": "stream",
          "name": "stdout",
          "text": [
            "Mounted at /content/drive\n",
            "/content/drive/MyDrive\n"
          ]
        }
      ],
      "source": [
        "drive.mount('/content/drive', force_remount=True)\n",
        "%cd /content/drive/MyDrive"
      ]
    },
    {
      "cell_type": "code",
      "execution_count": null,
      "metadata": {
        "colab": {
          "base_uri": "https://localhost:8080/",
          "height": 206
        },
        "id": "1XCb5WvRBIic",
        "outputId": "f9a98627-19e8-4c6f-9117-9d307f98e230"
      },
      "outputs": [
        {
          "output_type": "execute_result",
          "data": {
            "text/plain": [
              "      v1     v2\n",
              "0  10522  10561\n",
              "1  10480  10571\n",
              "2  10423  10532\n",
              "3  10490  10500\n",
              "4  10475  10549"
            ],
            "text/html": [
              "\n",
              "  <div id=\"df-bce7056b-653c-4f27-a491-2818d15c4aa0\">\n",
              "    <div class=\"colab-df-container\">\n",
              "      <div>\n",
              "<style scoped>\n",
              "    .dataframe tbody tr th:only-of-type {\n",
              "        vertical-align: middle;\n",
              "    }\n",
              "\n",
              "    .dataframe tbody tr th {\n",
              "        vertical-align: top;\n",
              "    }\n",
              "\n",
              "    .dataframe thead th {\n",
              "        text-align: right;\n",
              "    }\n",
              "</style>\n",
              "<table border=\"1\" class=\"dataframe\">\n",
              "  <thead>\n",
              "    <tr style=\"text-align: right;\">\n",
              "      <th></th>\n",
              "      <th>v1</th>\n",
              "      <th>v2</th>\n",
              "    </tr>\n",
              "  </thead>\n",
              "  <tbody>\n",
              "    <tr>\n",
              "      <th>0</th>\n",
              "      <td>10522</td>\n",
              "      <td>10561</td>\n",
              "    </tr>\n",
              "    <tr>\n",
              "      <th>1</th>\n",
              "      <td>10480</td>\n",
              "      <td>10571</td>\n",
              "    </tr>\n",
              "    <tr>\n",
              "      <th>2</th>\n",
              "      <td>10423</td>\n",
              "      <td>10532</td>\n",
              "    </tr>\n",
              "    <tr>\n",
              "      <th>3</th>\n",
              "      <td>10490</td>\n",
              "      <td>10500</td>\n",
              "    </tr>\n",
              "    <tr>\n",
              "      <th>4</th>\n",
              "      <td>10475</td>\n",
              "      <td>10549</td>\n",
              "    </tr>\n",
              "  </tbody>\n",
              "</table>\n",
              "</div>\n",
              "      <button class=\"colab-df-convert\" onclick=\"convertToInteractive('df-bce7056b-653c-4f27-a491-2818d15c4aa0')\"\n",
              "              title=\"Convert this dataframe to an interactive table.\"\n",
              "              style=\"display:none;\">\n",
              "        \n",
              "  <svg xmlns=\"http://www.w3.org/2000/svg\" height=\"24px\"viewBox=\"0 0 24 24\"\n",
              "       width=\"24px\">\n",
              "    <path d=\"M0 0h24v24H0V0z\" fill=\"none\"/>\n",
              "    <path d=\"M18.56 5.44l.94 2.06.94-2.06 2.06-.94-2.06-.94-.94-2.06-.94 2.06-2.06.94zm-11 1L8.5 8.5l.94-2.06 2.06-.94-2.06-.94L8.5 2.5l-.94 2.06-2.06.94zm10 10l.94 2.06.94-2.06 2.06-.94-2.06-.94-.94-2.06-.94 2.06-2.06.94z\"/><path d=\"M17.41 7.96l-1.37-1.37c-.4-.4-.92-.59-1.43-.59-.52 0-1.04.2-1.43.59L10.3 9.45l-7.72 7.72c-.78.78-.78 2.05 0 2.83L4 21.41c.39.39.9.59 1.41.59.51 0 1.02-.2 1.41-.59l7.78-7.78 2.81-2.81c.8-.78.8-2.07 0-2.86zM5.41 20L4 18.59l7.72-7.72 1.47 1.35L5.41 20z\"/>\n",
              "  </svg>\n",
              "      </button>\n",
              "      \n",
              "  <style>\n",
              "    .colab-df-container {\n",
              "      display:flex;\n",
              "      flex-wrap:wrap;\n",
              "      gap: 12px;\n",
              "    }\n",
              "\n",
              "    .colab-df-convert {\n",
              "      background-color: #E8F0FE;\n",
              "      border: none;\n",
              "      border-radius: 50%;\n",
              "      cursor: pointer;\n",
              "      display: none;\n",
              "      fill: #1967D2;\n",
              "      height: 32px;\n",
              "      padding: 0 0 0 0;\n",
              "      width: 32px;\n",
              "    }\n",
              "\n",
              "    .colab-df-convert:hover {\n",
              "      background-color: #E2EBFA;\n",
              "      box-shadow: 0px 1px 2px rgba(60, 64, 67, 0.3), 0px 1px 3px 1px rgba(60, 64, 67, 0.15);\n",
              "      fill: #174EA6;\n",
              "    }\n",
              "\n",
              "    [theme=dark] .colab-df-convert {\n",
              "      background-color: #3B4455;\n",
              "      fill: #D2E3FC;\n",
              "    }\n",
              "\n",
              "    [theme=dark] .colab-df-convert:hover {\n",
              "      background-color: #434B5C;\n",
              "      box-shadow: 0px 1px 3px 1px rgba(0, 0, 0, 0.15);\n",
              "      filter: drop-shadow(0px 1px 2px rgba(0, 0, 0, 0.3));\n",
              "      fill: #FFFFFF;\n",
              "    }\n",
              "  </style>\n",
              "\n",
              "      <script>\n",
              "        const buttonEl =\n",
              "          document.querySelector('#df-bce7056b-653c-4f27-a491-2818d15c4aa0 button.colab-df-convert');\n",
              "        buttonEl.style.display =\n",
              "          google.colab.kernel.accessAllowed ? 'block' : 'none';\n",
              "\n",
              "        async function convertToInteractive(key) {\n",
              "          const element = document.querySelector('#df-bce7056b-653c-4f27-a491-2818d15c4aa0');\n",
              "          const dataTable =\n",
              "            await google.colab.kernel.invokeFunction('convertToInteractive',\n",
              "                                                     [key], {});\n",
              "          if (!dataTable) return;\n",
              "\n",
              "          const docLinkHtml = 'Like what you see? Visit the ' +\n",
              "            '<a target=\"_blank\" href=https://colab.research.google.com/notebooks/data_table.ipynb>data table notebook</a>'\n",
              "            + ' to learn more about interactive tables.';\n",
              "          element.innerHTML = '';\n",
              "          dataTable['output_type'] = 'display_data';\n",
              "          await google.colab.output.renderOutput(dataTable, element);\n",
              "          const docLink = document.createElement('div');\n",
              "          docLink.innerHTML = docLinkHtml;\n",
              "          element.appendChild(docLink);\n",
              "        }\n",
              "      </script>\n",
              "    </div>\n",
              "  </div>\n",
              "  "
            ]
          },
          "metadata": {},
          "execution_count": 6
        }
      ],
      "source": [
        "# Load the datasets (RC)\n",
        "DATASETS_FOLDER = os.path.join(\"TFM\", \"datasets\")\n",
        "POSITIONS_FILE = os.path.join(DATASETS_FOLDER, \"positions.csv\")\n",
        "df = pd.read_csv(POSITIONS_FILE)\n",
        "\n",
        "columns = ['time(s)', 'vehicle_id', 'latitude(m)', 'longitude(m)', 'heading']\n",
        "df = df[columns]\n",
        "df = df.sort_values(by=['vehicle_id', 'time(s)'])\n",
        "\n",
        "# Load scaled dataset\n",
        "DATASETS_FOLDER = os.path.join(\"TFM\", \"datasets\")\n",
        "SCALED_FILE = os.path.join(DATASETS_FOLDER, \"scaled_dataset.csv\")\n",
        "df_scaled = pd.read_csv(SCALED_FILE)\n",
        "\n",
        "# Load dataset with vehicles dimensions\n",
        "DATASET_DIM = os.path.join(DATASETS_FOLDER, \"dimensions.csv\")\n",
        "df_dim = pd.read_csv(DATASET_DIM)\n",
        "df_dim = df_dim[['vehicle_id', 'length', 'width']]\n",
        "df_dim.head()\n",
        "\n",
        "# Load dataset with vehicles colision\n",
        "DATASET_COL = os.path.join(DATASETS_FOLDER, \"collision.csv\")\n",
        "df_col = pd.read_csv(DATASET_COL)\n",
        "df_col = df_col[['vehicle_id', 'victim_id']].astype(int)\n",
        "df_col.head()\n",
        "\n",
        "# Load dataset with vehicles no-colision\n",
        "DATASET_NOCOL = os.path.join(DATASETS_FOLDER, \"no_collision.csv\")\n",
        "df_nocol = pd.read_csv(DATASET_NOCOL)\n",
        "df_nocol = df_nocol[['v1', 'v2']]\n",
        "df_nocol.head()"
      ]
    },
    {
      "cell_type": "code",
      "execution_count": null,
      "metadata": {
        "id": "Ac3agMSJlIpm"
      },
      "outputs": [],
      "source": [
        "# RC\n",
        "from sklearn.preprocessing import MinMaxScaler\n",
        "import pickle\n",
        "# Load MinMaxScaler for target variables\n",
        "MINMAXSCALER_FILE = os.path.join(\"TFM\", \"implementation\",\n",
        "                                 \"data_preparation\", \"minmaxscaler.pkl\")\n",
        "with open(MINMAXSCALER_FILE, 'rb') as f_minmaxscaler:\n",
        "  minmaxscaler = pickle.load(f_minmaxscaler)"
      ]
    },
    {
      "cell_type": "markdown",
      "metadata": {
        "id": "ZOWczdzTCCPL"
      },
      "source": [
        "#2. Calculation of collision probability"
      ]
    },
    {
      "cell_type": "code",
      "execution_count": null,
      "metadata": {
        "id": "m-4nU2nqB_Y7"
      },
      "outputs": [],
      "source": [
        "def get_rotated_points(coordinates, bearing, width, length): # (RC)\n",
        "  \"\"\"\n",
        "  Fit and predict using a stacked regression model with multiple base models.\n",
        "\n",
        "  Parameters:\n",
        "      base_models (list): List of base regression models.\n",
        "      meta_model: Meta regression model used to combine the predictions of the base models.\n",
        "      t (int): Number of future steps to predict.\n",
        "      num (int): Number of previous steps to consider for prediction.\n",
        "      array (numpy array): Array of previous steps' values.\n",
        "\n",
        "  Returns:\n",
        "      numpy array: Array of predicted values for the next t steps.\n",
        "  \"\"\"\n",
        "  start = geopy.Point(coordinates)\n",
        "  width = width/1000\n",
        "  length = length/1000\n",
        "  rectlength = geopy.distance.distance(kilometers=length)\n",
        "  rectwidth = geopy.distance.distance(kilometers=width)\n",
        "  halfwidth = geopy.distance.distance(kilometers=width/2)\n",
        "  halflength = geopy.distance.distance(kilometers=length/2)\n",
        "\n",
        "  pointAB = halflength.destination(point=start, bearing=bearing)\n",
        "  pointA = halfwidth.destination(point=pointAB, bearing=0 - bearing)\n",
        "  pointB = rectwidth.destination(point=pointA, bearing=180 - bearing)\n",
        "  pointC = rectlength.destination(point=pointB, bearing=bearing - 180)\n",
        "  pointD = rectwidth.destination(point=pointC, bearing=0 - bearing)\n",
        "\n",
        "  points = []\n",
        "  for point in [pointA, pointB, pointC, pointD]:\n",
        "    coords = (point.latitude, point.longitude)\n",
        "    points.append(coords)\n",
        "\n",
        "  return points\n",
        "\n",
        "\n",
        "def get_collision(v1_id, v2_id, v1_coords, v2_coords, dimensions): # (RC)\n",
        "  colision = 0\n",
        "\n",
        "  v1_length = dimensions[dimensions['vehicle_id'] == v1_id].iloc[0, 1]\n",
        "  v1_width = dimensions[dimensions['vehicle_id'] == v1_id].iloc[0, 2]\n",
        "  v1_points = get_rotated_points(tuple(v1_coords[:2]), v1_coords[2],\n",
        "                                 v1_width, v1_length)\n",
        "  polygon1 = geometry.Polygon(v1_points)\n",
        "\n",
        "  v2_length = dimensions[dimensions['vehicle_id'] == v2_id].iloc[0, 1]\n",
        "  v2_width = dimensions[dimensions['vehicle_id'] == v2_id].iloc[0, 2]\n",
        "  v2_points = get_rotated_points(tuple(v2_coords[:2]), v2_coords[2],\n",
        "                                 v2_width, v2_length)\n",
        "  polygon2 = geometry.Polygon(v2_points)\n",
        "\n",
        "  if polygon1.intersection(polygon2).area > 0.0:\n",
        "    colision = 1\n",
        "\n",
        "  return colision\n",
        "\n",
        "\n",
        "def calculate_variance(values): # (RC)\n",
        "    # Calculate the mean of the values\n",
        "    mean = np.mean(values)\n",
        "\n",
        "    # Calculate the variance by summing the squared differences\n",
        "    # between each value and the mean, and dividing by the number of values\n",
        "    variance = np.sum((values - mean) ** 2) / len(values)\n",
        "\n",
        "    return variance\n",
        "\n",
        "\n",
        "def calculate_covariance(values1, values2): # (RC)\n",
        "    # Calculate the means of the values\n",
        "    mean1 = np.mean(values1)\n",
        "    mean2 = np.mean(values2)\n",
        "\n",
        "    # Calculate the covariance by summing the products of the differences\n",
        "    # between each pair of values and the means, and dividing by the number of values\n",
        "    covariance = np.sum((values1 - mean1) * (values2 - mean2)) / len(values1)\n",
        "\n",
        "    return covariance\n",
        "\n",
        "\n",
        "def calculate_covariance_matrix(latitudes, longitudes, thetas): # (RC)\n",
        "    # Calculate the variance of the coordinates and orientation\n",
        "    # var_lat = calculate_variance(latitudes) # or np.var(latitudes)\n",
        "    # var_long = calculate_variance(longitudes) # or np.var(longitudes)\n",
        "    # var_theta = calculate_variance(thetas)  # or np.var(thetas)\n",
        "    var_lat = np.var(latitudes)\n",
        "    var_long = np.var(longitudes)\n",
        "    var_theta = np.var(thetas)\n",
        "\n",
        "    # Calculate the covariance between the coordinates and orientation\n",
        "    cov_latlong = calculate_covariance(latitudes, longitudes)\n",
        "    cov_lattheta = calculate_covariance(latitudes, thetas)\n",
        "    cov_longtheta = calculate_covariance(longitudes, thetas)\n",
        "\n",
        "    # Return the covariance matrix\n",
        "    return np.array([[var_lat, cov_latlong, cov_lattheta],\n",
        "                     [cov_latlong, var_long, cov_longtheta],\n",
        "                     [cov_lattheta, cov_longtheta, var_theta]])\n",
        "\n",
        "\n",
        "def calculate_pdf(y_pred): # (RC)\n",
        "    # Calculate the mean position of the vehicle based on its coordinates and orientation\n",
        "    mean = [np.mean(y_pred[:, 0]), np.mean(y_pred[:, 1]), np.mean(y_pred[:, 2])]\n",
        "\n",
        "    # Calculate the covariance matrix of the vehicle's position based on its coordinates and orientation\n",
        "    covariance = calculate_covariance_matrix(y_pred[:, 0], y_pred[:, 1], y_pred[:, 2])\n",
        "\n",
        "    # Return the probability density function for the vehicle\n",
        "    return scipy.stats.multivariate_normal(mean=mean, cov=covariance,\n",
        "                                           allow_singular=True)\n",
        "\n",
        "\n",
        "def collision_probability(y_pred1, y_pred2, num_samples=1000): # (RC)\n",
        "  # Calculate the probability density function for both vehicles\n",
        "  pdf1 = calculate_pdf(y_pred1)\n",
        "  pdf2 = calculate_pdf(y_pred2)\n",
        "\n",
        "  # Generate random samples for the positions of both vehicles\n",
        "  samples1 = pdf1.rvs(size=num_samples)\n",
        "  samples2 = pdf2.rvs(size=num_samples)\n",
        "\n",
        "  # Calculate the number of samples where the vehicles are closer\n",
        "  collisions = 0\n",
        "  for i in range(num_samples):\n",
        "    # Check if there is collision between the vehicles\n",
        "    if get_collision(v1_id, v2_id, samples1[i], samples2[i], df_dim):\n",
        "      collisions += 1\n",
        "\n",
        "  # Return the fraction of samples where the vehicles collide\n",
        "  return collisions / num_samples\n",
        "\n",
        "\n",
        "def fit_and_pred_stack_list(base_models, meta_model, t, num, array):\n",
        "    \"\"\"\n",
        "    Fit and predict using a stacked regression model with multiple base models.\n",
        "\n",
        "    Parameters:\n",
        "        base_models (list): List of base regression models.\n",
        "        meta_model: Meta regression model used to combine the predictions of the base models.\n",
        "        t (int): Number of future steps to predict.\n",
        "        num (int): Number of previous steps to consider for prediction.\n",
        "        array (numpy array): Array of previous steps' values.\n",
        "\n",
        "    Returns:\n",
        "        numpy array: Array of predicted values for the next t steps.\n",
        "    \"\"\"\n",
        "    # Perform the new predictions\n",
        "    raw = array[-num:]\n",
        "    preds = []\n",
        "\n",
        "    # Predict the next t steps\n",
        "    for i in range(t):\n",
        "        X = raw[:-1]\n",
        "        y = raw[1:]\n",
        "        base_preds = []\n",
        "\n",
        "        # Get the predictions from the base models\n",
        "        for model in base_models:\n",
        "            model.fit(X, y)\n",
        "            pred = model.predict(X)\n",
        "            base_preds.append(pred)\n",
        "\n",
        "        # Train the final model (meta-model)\n",
        "        meta_model.fit(np.column_stack(base_preds), y)\n",
        "\n",
        "        # Get the predictions from the final model\n",
        "        meta_pred = meta_model.predict(np.column_stack(base_preds))\n",
        "        raw = meta_pred\n",
        "        preds.append(raw[-1])  # Add the prediction to the preds list\n",
        "\n",
        "    return np.array(preds)"
      ]
    },
    {
      "cell_type": "markdown",
      "metadata": {
        "id": "GmqurL7wNd93"
      },
      "source": [
        "## 2. Collision probability in the real dataset. Time analysis"
      ]
    },
    {
      "cell_type": "markdown",
      "source": [
        "### N = 100"
      ],
      "metadata": {
        "id": "sfsG97xnICsm"
      }
    },
    {
      "cell_type": "code",
      "source": [
        "SAMPLES=100 #RC\n",
        "\n",
        "col_array = np.empty((0, 5))\n",
        "# Collisions\n",
        "for i in range(df_col.shape[0]):\n",
        "  v1_id = df_col.iloc[i, 0]\n",
        "  v2_id = df_col.iloc[i, 1]\n",
        "  y_v1 = np.array(df[df['vehicle_id'] == v1_id].iloc[-5:, 2:]).reshape(-1, 3)\n",
        "  y_v2 = np.array(df[df['vehicle_id'] == v2_id].iloc[-5:, 2:]).reshape(-1, 3)\n",
        "\n",
        "  start = time.time()\n",
        "  collision_prob = collision_probability(y_v1, y_v2, num_samples=SAMPLES)\n",
        "  total_time = time.time() - start\n",
        "  col_array = np.vstack((col_array,\n",
        "                         np.array([v1_id, v2_id, total_time, collision_prob, 1])))\n",
        "\n",
        "# Non-collisions\n",
        "for i in range(df_nocol.shape[0]):\n",
        "  v1_id = df_nocol.iloc[i, 0]\n",
        "  v2_id = df_nocol.iloc[i, 1]\n",
        "  y_v1 = np.array(df[df['vehicle_id'] == v1_id].iloc[-5:, 2:]).reshape(-1, 3)\n",
        "  y_v2 = np.array(df[df['vehicle_id'] == v2_id].iloc[-5:, 2:]).reshape(-1, 3)\n",
        "\n",
        "  start = time.time()\n",
        "  collision_prob = collision_probability(y_v1, y_v2, num_samples=SAMPLES)\n",
        "  total_time = time.time() - start\n",
        "  col_array = np.vstack((col_array,\n",
        "                         np.array([v1_id, v2_id, total_time, collision_prob, 0])))\n",
        "\n",
        "PROB_FILE = os.path.join(DATASETS_FOLDER, \"collision_prob_real_100.csv\")\n",
        "\n",
        "df_collision_prob_100 = pd.DataFrame(\n",
        "    col_array.reshape(-1, 5),\n",
        "    columns=['vehicle1', 'vehicle2', 'execution_time', 'probability', 'collision'])\n",
        "df_collision_prob_100.to_csv(PROB_FILE, index=False)\n",
        "df_collision_prob_100.head()"
      ],
      "metadata": {
        "colab": {
          "base_uri": "https://localhost:8080/",
          "height": 206
        },
        "id": "PTA8sZ7xIGtL",
        "outputId": "c2b80e1a-98c4-4a69-8b74-e152a10e5e78"
      },
      "execution_count": null,
      "outputs": [
        {
          "output_type": "execute_result",
          "data": {
            "text/plain": [
              "   vehicle1  vehicle2  execution_time  probability  collision\n",
              "0    2892.0    2940.0        0.244356         0.19        1.0\n",
              "1    3850.0    3849.0        0.209175         0.01        1.0\n",
              "2    7638.0    7590.0        0.217284         0.10        1.0\n",
              "3     970.0    1160.0        0.229516         0.05        1.0\n",
              "4    3859.0    3803.0        0.217431         0.03        1.0"
            ],
            "text/html": [
              "\n",
              "  <div id=\"df-373d825a-acfe-4e44-809f-f183a56132ef\">\n",
              "    <div class=\"colab-df-container\">\n",
              "      <div>\n",
              "<style scoped>\n",
              "    .dataframe tbody tr th:only-of-type {\n",
              "        vertical-align: middle;\n",
              "    }\n",
              "\n",
              "    .dataframe tbody tr th {\n",
              "        vertical-align: top;\n",
              "    }\n",
              "\n",
              "    .dataframe thead th {\n",
              "        text-align: right;\n",
              "    }\n",
              "</style>\n",
              "<table border=\"1\" class=\"dataframe\">\n",
              "  <thead>\n",
              "    <tr style=\"text-align: right;\">\n",
              "      <th></th>\n",
              "      <th>vehicle1</th>\n",
              "      <th>vehicle2</th>\n",
              "      <th>execution_time</th>\n",
              "      <th>probability</th>\n",
              "      <th>collision</th>\n",
              "    </tr>\n",
              "  </thead>\n",
              "  <tbody>\n",
              "    <tr>\n",
              "      <th>0</th>\n",
              "      <td>2892.0</td>\n",
              "      <td>2940.0</td>\n",
              "      <td>0.244356</td>\n",
              "      <td>0.19</td>\n",
              "      <td>1.0</td>\n",
              "    </tr>\n",
              "    <tr>\n",
              "      <th>1</th>\n",
              "      <td>3850.0</td>\n",
              "      <td>3849.0</td>\n",
              "      <td>0.209175</td>\n",
              "      <td>0.01</td>\n",
              "      <td>1.0</td>\n",
              "    </tr>\n",
              "    <tr>\n",
              "      <th>2</th>\n",
              "      <td>7638.0</td>\n",
              "      <td>7590.0</td>\n",
              "      <td>0.217284</td>\n",
              "      <td>0.10</td>\n",
              "      <td>1.0</td>\n",
              "    </tr>\n",
              "    <tr>\n",
              "      <th>3</th>\n",
              "      <td>970.0</td>\n",
              "      <td>1160.0</td>\n",
              "      <td>0.229516</td>\n",
              "      <td>0.05</td>\n",
              "      <td>1.0</td>\n",
              "    </tr>\n",
              "    <tr>\n",
              "      <th>4</th>\n",
              "      <td>3859.0</td>\n",
              "      <td>3803.0</td>\n",
              "      <td>0.217431</td>\n",
              "      <td>0.03</td>\n",
              "      <td>1.0</td>\n",
              "    </tr>\n",
              "  </tbody>\n",
              "</table>\n",
              "</div>\n",
              "      <button class=\"colab-df-convert\" onclick=\"convertToInteractive('df-373d825a-acfe-4e44-809f-f183a56132ef')\"\n",
              "              title=\"Convert this dataframe to an interactive table.\"\n",
              "              style=\"display:none;\">\n",
              "        \n",
              "  <svg xmlns=\"http://www.w3.org/2000/svg\" height=\"24px\"viewBox=\"0 0 24 24\"\n",
              "       width=\"24px\">\n",
              "    <path d=\"M0 0h24v24H0V0z\" fill=\"none\"/>\n",
              "    <path d=\"M18.56 5.44l.94 2.06.94-2.06 2.06-.94-2.06-.94-.94-2.06-.94 2.06-2.06.94zm-11 1L8.5 8.5l.94-2.06 2.06-.94-2.06-.94L8.5 2.5l-.94 2.06-2.06.94zm10 10l.94 2.06.94-2.06 2.06-.94-2.06-.94-.94-2.06-.94 2.06-2.06.94z\"/><path d=\"M17.41 7.96l-1.37-1.37c-.4-.4-.92-.59-1.43-.59-.52 0-1.04.2-1.43.59L10.3 9.45l-7.72 7.72c-.78.78-.78 2.05 0 2.83L4 21.41c.39.39.9.59 1.41.59.51 0 1.02-.2 1.41-.59l7.78-7.78 2.81-2.81c.8-.78.8-2.07 0-2.86zM5.41 20L4 18.59l7.72-7.72 1.47 1.35L5.41 20z\"/>\n",
              "  </svg>\n",
              "      </button>\n",
              "      \n",
              "  <style>\n",
              "    .colab-df-container {\n",
              "      display:flex;\n",
              "      flex-wrap:wrap;\n",
              "      gap: 12px;\n",
              "    }\n",
              "\n",
              "    .colab-df-convert {\n",
              "      background-color: #E8F0FE;\n",
              "      border: none;\n",
              "      border-radius: 50%;\n",
              "      cursor: pointer;\n",
              "      display: none;\n",
              "      fill: #1967D2;\n",
              "      height: 32px;\n",
              "      padding: 0 0 0 0;\n",
              "      width: 32px;\n",
              "    }\n",
              "\n",
              "    .colab-df-convert:hover {\n",
              "      background-color: #E2EBFA;\n",
              "      box-shadow: 0px 1px 2px rgba(60, 64, 67, 0.3), 0px 1px 3px 1px rgba(60, 64, 67, 0.15);\n",
              "      fill: #174EA6;\n",
              "    }\n",
              "\n",
              "    [theme=dark] .colab-df-convert {\n",
              "      background-color: #3B4455;\n",
              "      fill: #D2E3FC;\n",
              "    }\n",
              "\n",
              "    [theme=dark] .colab-df-convert:hover {\n",
              "      background-color: #434B5C;\n",
              "      box-shadow: 0px 1px 3px 1px rgba(0, 0, 0, 0.15);\n",
              "      filter: drop-shadow(0px 1px 2px rgba(0, 0, 0, 0.3));\n",
              "      fill: #FFFFFF;\n",
              "    }\n",
              "  </style>\n",
              "\n",
              "      <script>\n",
              "        const buttonEl =\n",
              "          document.querySelector('#df-373d825a-acfe-4e44-809f-f183a56132ef button.colab-df-convert');\n",
              "        buttonEl.style.display =\n",
              "          google.colab.kernel.accessAllowed ? 'block' : 'none';\n",
              "\n",
              "        async function convertToInteractive(key) {\n",
              "          const element = document.querySelector('#df-373d825a-acfe-4e44-809f-f183a56132ef');\n",
              "          const dataTable =\n",
              "            await google.colab.kernel.invokeFunction('convertToInteractive',\n",
              "                                                     [key], {});\n",
              "          if (!dataTable) return;\n",
              "\n",
              "          const docLinkHtml = 'Like what you see? Visit the ' +\n",
              "            '<a target=\"_blank\" href=https://colab.research.google.com/notebooks/data_table.ipynb>data table notebook</a>'\n",
              "            + ' to learn more about interactive tables.';\n",
              "          element.innerHTML = '';\n",
              "          dataTable['output_type'] = 'display_data';\n",
              "          await google.colab.output.renderOutput(dataTable, element);\n",
              "          const docLink = document.createElement('div');\n",
              "          docLink.innerHTML = docLinkHtml;\n",
              "          element.appendChild(docLink);\n",
              "        }\n",
              "      </script>\n",
              "    </div>\n",
              "  </div>\n",
              "  "
            ]
          },
          "metadata": {},
          "execution_count": 84
        }
      ]
    },
    {
      "cell_type": "code",
      "source": [
        "PROB_FILE = os.path.join(DATASETS_FOLDER, \"collision_prob_real_100.csv\")\n",
        "df_collision_prob_100 = pd.read_csv(PROB_FILE)"
      ],
      "metadata": {
        "id": "9-G-GbLKjCgR"
      },
      "execution_count": null,
      "outputs": []
    },
    {
      "cell_type": "code",
      "source": [
        "# RC\n",
        "collisions = df_collision_prob_100[df_collision_prob_100['collision'] == 1]\n",
        "no_collisions = df_collision_prob_100[df_collision_prob_100['collision'] == 0]\n",
        "\n",
        "print(\"Average collision probability for collisions: {}\"\n",
        "      .format(np.mean(collisions['probability'])))\n",
        "print(\"Average collision probability for non-collisions: {}\"\n",
        "      .format(np.mean(no_collisions['probability'])))\n",
        "\n",
        "print(\"Average execution time for collisions: {}\"\n",
        "      .format(np.mean(collisions['execution_time'])))\n",
        "print(\"Average execution time for non-collisions: {}\"\n",
        "      .format(np.mean(no_collisions['execution_time'])))\n",
        "print(\"Average execution time: {}\"\n",
        "      .format(np.mean(df_collision_prob_100['execution_time'])))"
      ],
      "metadata": {
        "colab": {
          "base_uri": "https://localhost:8080/"
        },
        "id": "q-2x0EnzkCyn",
        "outputId": "78bb91dc-2ac2-41ea-e19a-33cc5f861458"
      },
      "execution_count": null,
      "outputs": [
        {
          "output_type": "stream",
          "name": "stdout",
          "text": [
            "Average collision probability for collisions: 0.09301000000000001\n",
            "Average collision probability for non-collisions: 0.0020700000000000002\n",
            "Average execution time for collisions: 0.25321535277366636\n",
            "Average execution time for non-collisions: 0.23455835509300232\n",
            "Average execution time: 0.24388685393333434\n"
          ]
        }
      ]
    },
    {
      "cell_type": "markdown",
      "source": [
        "### N = 150"
      ],
      "metadata": {
        "id": "y-CgU6_KIRE2"
      }
    },
    {
      "cell_type": "code",
      "source": [
        "SAMPLES=150\n",
        "\n",
        "col_array = np.empty((0, 5))\n",
        "# Collisions\n",
        "for i in range(df_col.shape[0]):\n",
        "  v1_id = df_col.iloc[i, 0]\n",
        "  v2_id = df_col.iloc[i, 1]\n",
        "  y_v1 = np.array(df[df['vehicle_id'] == v1_id].iloc[-5:, 2:]).reshape(-1, 3)\n",
        "  y_v2 = np.array(df[df['vehicle_id'] == v2_id].iloc[-5:, 2:]).reshape(-1, 3)\n",
        "\n",
        "  start = time.time()\n",
        "  collision_prob = collision_probability(y_v1, y_v2, num_samples=SAMPLES)\n",
        "  total_time = time.time() - start\n",
        "  col_array = np.vstack((col_array,\n",
        "                         np.array([v1_id, v2_id, total_time, collision_prob, 1])))\n",
        "\n",
        "# Non collisions\n",
        "for i in range(df_nocol.shape[0]):\n",
        "  v1_id = df_nocol.iloc[i, 0]\n",
        "  v2_id = df_nocol.iloc[i, 1]\n",
        "  y_v1 = np.array(df[df['vehicle_id'] == v1_id].iloc[-5:, 2:]).reshape(-1, 3)\n",
        "  y_v2 = np.array(df[df['vehicle_id'] == v2_id].iloc[-5:, 2:]).reshape(-1, 3)\n",
        "\n",
        "  start = time.time()\n",
        "  collision_prob = collision_probability(y_v1, y_v2, num_samples=SAMPLES)\n",
        "  total_time = time.time() - start\n",
        "  col_array = np.vstack((col_array,\n",
        "                         np.array([v1_id, v2_id, total_time, collision_prob, 0])))\n",
        "\n",
        "PROB_FILE = os.path.join(DATASETS_FOLDER, \"collision_prob_real_150.csv\")\n",
        "\n",
        "df_collision_prob_150 = pd.DataFrame(\n",
        "    col_array.reshape(-1, 5),\n",
        "    columns=['vehicle1', 'vehicle2', 'execution_time', 'probability', 'collision'])\n",
        "df_collision_prob_150.to_csv(PROB_FILE, index=False)\n",
        "df_collision_prob_150.head()"
      ],
      "metadata": {
        "colab": {
          "base_uri": "https://localhost:8080/",
          "height": 206
        },
        "id": "V5cwOV7JISqt",
        "outputId": "a34b8734-5d2d-4d85-b7e8-3fa5c3f16f77"
      },
      "execution_count": null,
      "outputs": [
        {
          "output_type": "execute_result",
          "data": {
            "text/plain": [
              "   vehicle1  vehicle2  execution_time  probability  collision\n",
              "0    2892.0    2940.0        0.398802     0.173333        1.0\n",
              "1    3850.0    3849.0        0.360060     0.053333        1.0\n",
              "2    7638.0    7590.0        0.324414     0.160000        1.0\n",
              "3     970.0    1160.0        0.348611     0.026667        1.0\n",
              "4    3859.0    3803.0        0.337899     0.026667        1.0"
            ],
            "text/html": [
              "\n",
              "  <div id=\"df-d6044153-633b-43f3-adfa-12f0cea46c72\">\n",
              "    <div class=\"colab-df-container\">\n",
              "      <div>\n",
              "<style scoped>\n",
              "    .dataframe tbody tr th:only-of-type {\n",
              "        vertical-align: middle;\n",
              "    }\n",
              "\n",
              "    .dataframe tbody tr th {\n",
              "        vertical-align: top;\n",
              "    }\n",
              "\n",
              "    .dataframe thead th {\n",
              "        text-align: right;\n",
              "    }\n",
              "</style>\n",
              "<table border=\"1\" class=\"dataframe\">\n",
              "  <thead>\n",
              "    <tr style=\"text-align: right;\">\n",
              "      <th></th>\n",
              "      <th>vehicle1</th>\n",
              "      <th>vehicle2</th>\n",
              "      <th>execution_time</th>\n",
              "      <th>probability</th>\n",
              "      <th>collision</th>\n",
              "    </tr>\n",
              "  </thead>\n",
              "  <tbody>\n",
              "    <tr>\n",
              "      <th>0</th>\n",
              "      <td>2892.0</td>\n",
              "      <td>2940.0</td>\n",
              "      <td>0.398802</td>\n",
              "      <td>0.173333</td>\n",
              "      <td>1.0</td>\n",
              "    </tr>\n",
              "    <tr>\n",
              "      <th>1</th>\n",
              "      <td>3850.0</td>\n",
              "      <td>3849.0</td>\n",
              "      <td>0.360060</td>\n",
              "      <td>0.053333</td>\n",
              "      <td>1.0</td>\n",
              "    </tr>\n",
              "    <tr>\n",
              "      <th>2</th>\n",
              "      <td>7638.0</td>\n",
              "      <td>7590.0</td>\n",
              "      <td>0.324414</td>\n",
              "      <td>0.160000</td>\n",
              "      <td>1.0</td>\n",
              "    </tr>\n",
              "    <tr>\n",
              "      <th>3</th>\n",
              "      <td>970.0</td>\n",
              "      <td>1160.0</td>\n",
              "      <td>0.348611</td>\n",
              "      <td>0.026667</td>\n",
              "      <td>1.0</td>\n",
              "    </tr>\n",
              "    <tr>\n",
              "      <th>4</th>\n",
              "      <td>3859.0</td>\n",
              "      <td>3803.0</td>\n",
              "      <td>0.337899</td>\n",
              "      <td>0.026667</td>\n",
              "      <td>1.0</td>\n",
              "    </tr>\n",
              "  </tbody>\n",
              "</table>\n",
              "</div>\n",
              "      <button class=\"colab-df-convert\" onclick=\"convertToInteractive('df-d6044153-633b-43f3-adfa-12f0cea46c72')\"\n",
              "              title=\"Convert this dataframe to an interactive table.\"\n",
              "              style=\"display:none;\">\n",
              "        \n",
              "  <svg xmlns=\"http://www.w3.org/2000/svg\" height=\"24px\"viewBox=\"0 0 24 24\"\n",
              "       width=\"24px\">\n",
              "    <path d=\"M0 0h24v24H0V0z\" fill=\"none\"/>\n",
              "    <path d=\"M18.56 5.44l.94 2.06.94-2.06 2.06-.94-2.06-.94-.94-2.06-.94 2.06-2.06.94zm-11 1L8.5 8.5l.94-2.06 2.06-.94-2.06-.94L8.5 2.5l-.94 2.06-2.06.94zm10 10l.94 2.06.94-2.06 2.06-.94-2.06-.94-.94-2.06-.94 2.06-2.06.94z\"/><path d=\"M17.41 7.96l-1.37-1.37c-.4-.4-.92-.59-1.43-.59-.52 0-1.04.2-1.43.59L10.3 9.45l-7.72 7.72c-.78.78-.78 2.05 0 2.83L4 21.41c.39.39.9.59 1.41.59.51 0 1.02-.2 1.41-.59l7.78-7.78 2.81-2.81c.8-.78.8-2.07 0-2.86zM5.41 20L4 18.59l7.72-7.72 1.47 1.35L5.41 20z\"/>\n",
              "  </svg>\n",
              "      </button>\n",
              "      \n",
              "  <style>\n",
              "    .colab-df-container {\n",
              "      display:flex;\n",
              "      flex-wrap:wrap;\n",
              "      gap: 12px;\n",
              "    }\n",
              "\n",
              "    .colab-df-convert {\n",
              "      background-color: #E8F0FE;\n",
              "      border: none;\n",
              "      border-radius: 50%;\n",
              "      cursor: pointer;\n",
              "      display: none;\n",
              "      fill: #1967D2;\n",
              "      height: 32px;\n",
              "      padding: 0 0 0 0;\n",
              "      width: 32px;\n",
              "    }\n",
              "\n",
              "    .colab-df-convert:hover {\n",
              "      background-color: #E2EBFA;\n",
              "      box-shadow: 0px 1px 2px rgba(60, 64, 67, 0.3), 0px 1px 3px 1px rgba(60, 64, 67, 0.15);\n",
              "      fill: #174EA6;\n",
              "    }\n",
              "\n",
              "    [theme=dark] .colab-df-convert {\n",
              "      background-color: #3B4455;\n",
              "      fill: #D2E3FC;\n",
              "    }\n",
              "\n",
              "    [theme=dark] .colab-df-convert:hover {\n",
              "      background-color: #434B5C;\n",
              "      box-shadow: 0px 1px 3px 1px rgba(0, 0, 0, 0.15);\n",
              "      filter: drop-shadow(0px 1px 2px rgba(0, 0, 0, 0.3));\n",
              "      fill: #FFFFFF;\n",
              "    }\n",
              "  </style>\n",
              "\n",
              "      <script>\n",
              "        const buttonEl =\n",
              "          document.querySelector('#df-d6044153-633b-43f3-adfa-12f0cea46c72 button.colab-df-convert');\n",
              "        buttonEl.style.display =\n",
              "          google.colab.kernel.accessAllowed ? 'block' : 'none';\n",
              "\n",
              "        async function convertToInteractive(key) {\n",
              "          const element = document.querySelector('#df-d6044153-633b-43f3-adfa-12f0cea46c72');\n",
              "          const dataTable =\n",
              "            await google.colab.kernel.invokeFunction('convertToInteractive',\n",
              "                                                     [key], {});\n",
              "          if (!dataTable) return;\n",
              "\n",
              "          const docLinkHtml = 'Like what you see? Visit the ' +\n",
              "            '<a target=\"_blank\" href=https://colab.research.google.com/notebooks/data_table.ipynb>data table notebook</a>'\n",
              "            + ' to learn more about interactive tables.';\n",
              "          element.innerHTML = '';\n",
              "          dataTable['output_type'] = 'display_data';\n",
              "          await google.colab.output.renderOutput(dataTable, element);\n",
              "          const docLink = document.createElement('div');\n",
              "          docLink.innerHTML = docLinkHtml;\n",
              "          element.appendChild(docLink);\n",
              "        }\n",
              "      </script>\n",
              "    </div>\n",
              "  </div>\n",
              "  "
            ]
          },
          "metadata": {},
          "execution_count": 85
        }
      ]
    },
    {
      "cell_type": "code",
      "source": [
        "PROB_FILE = os.path.join(DATASETS_FOLDER, \"collision_prob_real_150.csv\")\n",
        "df_collision_prob_150 = pd.read_csv(PROB_FILE)"
      ],
      "metadata": {
        "id": "SZeWlKMCmHXK"
      },
      "execution_count": null,
      "outputs": []
    },
    {
      "cell_type": "code",
      "source": [
        "#RC\n",
        "collisions = df_collision_prob_150[df_collision_prob_150['collision'] == 1]\n",
        "no_collisions = df_collision_prob_150[df_collision_prob_150['collision'] == 0]\n",
        "\n",
        "print(\"Average collision probability for collisions: {}\"\n",
        "      .format(np.mean(collisions['probability'])))\n",
        "print(\"Average collision probability for non-collisions: {}\"\n",
        "      .format(np.mean(no_collisions['probability'])))\n",
        "\n",
        "print(\"Average execution time for collisions: {}\"\n",
        "      .format(np.mean(collisions['execution_time'])))\n",
        "print(\"Average execution time for non-collisions: {}\"\n",
        "      .format(np.mean(no_collisions['execution_time'])))\n",
        "print(\"Average execution time: {}\"\n",
        "      .format(np.mean(df_collision_prob_150['execution_time'])))"
      ],
      "metadata": {
        "colab": {
          "base_uri": "https://localhost:8080/"
        },
        "id": "qvsdpLbvmP1F",
        "outputId": "f77bd330-ab3e-40e0-a614-a0a5369d1841"
      },
      "execution_count": null,
      "outputs": [
        {
          "output_type": "stream",
          "name": "stdout",
          "text": [
            "Average collision probability for collisions: 0.09327500000000001\n",
            "Average collision probability for non-collisions: 0.0019100000000000002\n",
            "Average execution time for collisions: 0.47249327421188353\n",
            "Average execution time for non-collisions: 0.46989277386665346\n",
            "Average execution time: 0.4711930240392685\n"
          ]
        }
      ]
    },
    {
      "cell_type": "markdown",
      "source": [
        "### N = 200"
      ],
      "metadata": {
        "id": "Kyepgz2zIZgJ"
      }
    },
    {
      "cell_type": "code",
      "source": [
        "#RC\n",
        "SAMPLES=200\n",
        "\n",
        "col_array = np.empty((0, 5))\n",
        "# Collisions\n",
        "for i in range(df_col.shape[0]):\n",
        "  v1_id = df_col.iloc[i, 0]\n",
        "  v2_id = df_col.iloc[i, 1]\n",
        "  y_v1 = np.array(df[df['vehicle_id'] == v1_id].iloc[-5:, 2:]).reshape(-1, 3)\n",
        "  y_v2 = np.array(df[df['vehicle_id'] == v2_id].iloc[-5:, 2:]).reshape(-1, 3)\n",
        "\n",
        "  start = time.time()\n",
        "  collision_prob = collision_probability(y_v1, y_v2, num_samples=SAMPLES)\n",
        "  total_time = time.time() - start\n",
        "  col_array = np.vstack((col_array,\n",
        "                         np.array([v1_id, v2_id, total_time, collision_prob, 1])))\n",
        "\n",
        "# Non collisions\n",
        "for i in range(df_nocol.shape[0]):\n",
        "  v1_id = df_nocol.iloc[i, 0]\n",
        "  v2_id = df_nocol.iloc[i, 1]\n",
        "  y_v1 = np.array(df[df['vehicle_id'] == v1_id].iloc[-5:, 2:]).reshape(-1, 3)\n",
        "  y_v2 = np.array(df[df['vehicle_id'] == v2_id].iloc[-5:, 2:]).reshape(-1, 3)\n",
        "\n",
        "  start = time.time()\n",
        "  collision_prob = collision_probability(y_v1, y_v2, num_samples=SAMPLES)\n",
        "  total_time = time.time() - start\n",
        "  col_array = np.vstack((col_array,\n",
        "                         np.array([v1_id, v2_id, total_time, collision_prob, 0])))\n",
        "\n",
        "PROB_FILE = os.path.join(DATASETS_FOLDER, \"collision_prob_real_200.csv\")\n",
        "\n",
        "df_collision_prob_200 = pd.DataFrame(\n",
        "    col_array.reshape(-1, 5),\n",
        "    columns=['vehicle1', 'vehicle2', 'execution_time', 'probability', 'collision'])\n",
        "df_collision_prob_200.to_csv(PROB_FILE, index=False)\n",
        "df_collision_prob_200.head()"
      ],
      "metadata": {
        "colab": {
          "base_uri": "https://localhost:8080/",
          "height": 206
        },
        "id": "axYry-gKIcyN",
        "outputId": "05de682c-27a5-4026-a2fb-3455dd4c8f8b"
      },
      "execution_count": null,
      "outputs": [
        {
          "output_type": "execute_result",
          "data": {
            "text/plain": [
              "   vehicle1  vehicle2  execution_time  probability  collision\n",
              "0    2892.0    2940.0        1.019925        0.160        1.0\n",
              "1    3850.0    3849.0        1.427919        0.050        1.0\n",
              "2    7638.0    7590.0        1.715114        0.135        1.0\n",
              "3     970.0    1160.0        1.557308        0.035        1.0\n",
              "4    3859.0    3803.0        2.085525        0.045        1.0"
            ],
            "text/html": [
              "\n",
              "  <div id=\"df-6d9dec56-96e9-4d5c-b726-3c0fbf44164e\">\n",
              "    <div class=\"colab-df-container\">\n",
              "      <div>\n",
              "<style scoped>\n",
              "    .dataframe tbody tr th:only-of-type {\n",
              "        vertical-align: middle;\n",
              "    }\n",
              "\n",
              "    .dataframe tbody tr th {\n",
              "        vertical-align: top;\n",
              "    }\n",
              "\n",
              "    .dataframe thead th {\n",
              "        text-align: right;\n",
              "    }\n",
              "</style>\n",
              "<table border=\"1\" class=\"dataframe\">\n",
              "  <thead>\n",
              "    <tr style=\"text-align: right;\">\n",
              "      <th></th>\n",
              "      <th>vehicle1</th>\n",
              "      <th>vehicle2</th>\n",
              "      <th>execution_time</th>\n",
              "      <th>probability</th>\n",
              "      <th>collision</th>\n",
              "    </tr>\n",
              "  </thead>\n",
              "  <tbody>\n",
              "    <tr>\n",
              "      <th>0</th>\n",
              "      <td>2892.0</td>\n",
              "      <td>2940.0</td>\n",
              "      <td>1.019925</td>\n",
              "      <td>0.160</td>\n",
              "      <td>1.0</td>\n",
              "    </tr>\n",
              "    <tr>\n",
              "      <th>1</th>\n",
              "      <td>3850.0</td>\n",
              "      <td>3849.0</td>\n",
              "      <td>1.427919</td>\n",
              "      <td>0.050</td>\n",
              "      <td>1.0</td>\n",
              "    </tr>\n",
              "    <tr>\n",
              "      <th>2</th>\n",
              "      <td>7638.0</td>\n",
              "      <td>7590.0</td>\n",
              "      <td>1.715114</td>\n",
              "      <td>0.135</td>\n",
              "      <td>1.0</td>\n",
              "    </tr>\n",
              "    <tr>\n",
              "      <th>3</th>\n",
              "      <td>970.0</td>\n",
              "      <td>1160.0</td>\n",
              "      <td>1.557308</td>\n",
              "      <td>0.035</td>\n",
              "      <td>1.0</td>\n",
              "    </tr>\n",
              "    <tr>\n",
              "      <th>4</th>\n",
              "      <td>3859.0</td>\n",
              "      <td>3803.0</td>\n",
              "      <td>2.085525</td>\n",
              "      <td>0.045</td>\n",
              "      <td>1.0</td>\n",
              "    </tr>\n",
              "  </tbody>\n",
              "</table>\n",
              "</div>\n",
              "      <button class=\"colab-df-convert\" onclick=\"convertToInteractive('df-6d9dec56-96e9-4d5c-b726-3c0fbf44164e')\"\n",
              "              title=\"Convert this dataframe to an interactive table.\"\n",
              "              style=\"display:none;\">\n",
              "        \n",
              "  <svg xmlns=\"http://www.w3.org/2000/svg\" height=\"24px\"viewBox=\"0 0 24 24\"\n",
              "       width=\"24px\">\n",
              "    <path d=\"M0 0h24v24H0V0z\" fill=\"none\"/>\n",
              "    <path d=\"M18.56 5.44l.94 2.06.94-2.06 2.06-.94-2.06-.94-.94-2.06-.94 2.06-2.06.94zm-11 1L8.5 8.5l.94-2.06 2.06-.94-2.06-.94L8.5 2.5l-.94 2.06-2.06.94zm10 10l.94 2.06.94-2.06 2.06-.94-2.06-.94-.94-2.06-.94 2.06-2.06.94z\"/><path d=\"M17.41 7.96l-1.37-1.37c-.4-.4-.92-.59-1.43-.59-.52 0-1.04.2-1.43.59L10.3 9.45l-7.72 7.72c-.78.78-.78 2.05 0 2.83L4 21.41c.39.39.9.59 1.41.59.51 0 1.02-.2 1.41-.59l7.78-7.78 2.81-2.81c.8-.78.8-2.07 0-2.86zM5.41 20L4 18.59l7.72-7.72 1.47 1.35L5.41 20z\"/>\n",
              "  </svg>\n",
              "      </button>\n",
              "      \n",
              "  <style>\n",
              "    .colab-df-container {\n",
              "      display:flex;\n",
              "      flex-wrap:wrap;\n",
              "      gap: 12px;\n",
              "    }\n",
              "\n",
              "    .colab-df-convert {\n",
              "      background-color: #E8F0FE;\n",
              "      border: none;\n",
              "      border-radius: 50%;\n",
              "      cursor: pointer;\n",
              "      display: none;\n",
              "      fill: #1967D2;\n",
              "      height: 32px;\n",
              "      padding: 0 0 0 0;\n",
              "      width: 32px;\n",
              "    }\n",
              "\n",
              "    .colab-df-convert:hover {\n",
              "      background-color: #E2EBFA;\n",
              "      box-shadow: 0px 1px 2px rgba(60, 64, 67, 0.3), 0px 1px 3px 1px rgba(60, 64, 67, 0.15);\n",
              "      fill: #174EA6;\n",
              "    }\n",
              "\n",
              "    [theme=dark] .colab-df-convert {\n",
              "      background-color: #3B4455;\n",
              "      fill: #D2E3FC;\n",
              "    }\n",
              "\n",
              "    [theme=dark] .colab-df-convert:hover {\n",
              "      background-color: #434B5C;\n",
              "      box-shadow: 0px 1px 3px 1px rgba(0, 0, 0, 0.15);\n",
              "      filter: drop-shadow(0px 1px 2px rgba(0, 0, 0, 0.3));\n",
              "      fill: #FFFFFF;\n",
              "    }\n",
              "  </style>\n",
              "\n",
              "      <script>\n",
              "        const buttonEl =\n",
              "          document.querySelector('#df-6d9dec56-96e9-4d5c-b726-3c0fbf44164e button.colab-df-convert');\n",
              "        buttonEl.style.display =\n",
              "          google.colab.kernel.accessAllowed ? 'block' : 'none';\n",
              "\n",
              "        async function convertToInteractive(key) {\n",
              "          const element = document.querySelector('#df-6d9dec56-96e9-4d5c-b726-3c0fbf44164e');\n",
              "          const dataTable =\n",
              "            await google.colab.kernel.invokeFunction('convertToInteractive',\n",
              "                                                     [key], {});\n",
              "          if (!dataTable) return;\n",
              "\n",
              "          const docLinkHtml = 'Like what you see? Visit the ' +\n",
              "            '<a target=\"_blank\" href=https://colab.research.google.com/notebooks/data_table.ipynb>data table notebook</a>'\n",
              "            + ' to learn more about interactive tables.';\n",
              "          element.innerHTML = '';\n",
              "          dataTable['output_type'] = 'display_data';\n",
              "          await google.colab.output.renderOutput(dataTable, element);\n",
              "          const docLink = document.createElement('div');\n",
              "          docLink.innerHTML = docLinkHtml;\n",
              "          element.appendChild(docLink);\n",
              "        }\n",
              "      </script>\n",
              "    </div>\n",
              "  </div>\n",
              "  "
            ]
          },
          "metadata": {},
          "execution_count": 46
        }
      ]
    },
    {
      "cell_type": "code",
      "source": [
        "PROB_FILE = os.path.join(DATASETS_FOLDER, \"collision_prob_real_200.csv\")\n",
        "df_collision_prob_200 = pd.read_csv(PROB_FILE)"
      ],
      "metadata": {
        "id": "8geJeBcxmaTJ"
      },
      "execution_count": null,
      "outputs": []
    },
    {
      "cell_type": "code",
      "source": [
        "collisions = df_collision_prob_200[df_collision_prob_200['collision'] == 1]\n",
        "no_collisions = df_collision_prob_200[df_collision_prob_200['collision'] == 0]\n",
        "\n",
        "print(\"Average collision probability for collisions: {}\"\n",
        "      .format(np.mean(collisions['probability'])))\n",
        "print(\"Average collision probability for non-collisions: {}\"\n",
        "      .format(np.mean(no_collisions['probability'])))\n",
        "\n",
        "print(\"Average execution time for collisions: {}\"\n",
        "      .format(np.mean(collisions['execution_time'])))\n",
        "print(\"Average execution time for non-collisions: {}\"\n",
        "      .format(np.mean(no_collisions['execution_time'])))\n",
        "print(\"Average execution time: {}\"\n",
        "      .format(np.mean(df_collision_prob_200['execution_time'])))"
      ],
      "metadata": {
        "colab": {
          "base_uri": "https://localhost:8080/"
        },
        "id": "GrvJK7uEmiA6",
        "outputId": "3424c498-d5f7-4882-d932-cfec1ad1b86a"
      },
      "execution_count": null,
      "outputs": [
        {
          "output_type": "stream",
          "name": "stdout",
          "text": [
            "Average collision probability for collisions: 0.09428\n",
            "Average collision probability for non-collisions: 0.00189\n",
            "Average execution time for collisions: 0.6929844987392425\n",
            "Average execution time for non-collisions: 0.6791275944709778\n",
            "Average execution time: 0.6860560466051102\n"
          ]
        }
      ]
    },
    {
      "cell_type": "markdown",
      "source": [
        "### N = 250"
      ],
      "metadata": {
        "id": "6gZgGoCGIm4N"
      }
    },
    {
      "cell_type": "code",
      "source": [
        "SAMPLES=250\n",
        "\n",
        "col_array = np.empty((0, 5))\n",
        "# Collisions\n",
        "for i in range(df_col.shape[0]):\n",
        "  v1_id = df_col.iloc[i, 0]\n",
        "  v2_id = df_col.iloc[i, 1]\n",
        "  y_v1 = np.array(df[df['vehicle_id'] == v1_id].iloc[-5:, 2:]).reshape(-1, 3)\n",
        "  y_v2 = np.array(df[df['vehicle_id'] == v2_id].iloc[-5:, 2:]).reshape(-1, 3)\n",
        "\n",
        "  start = time.time()\n",
        "  collision_prob = collision_probability(y_v1, y_v2, num_samples=SAMPLES)\n",
        "  total_time = time.time() - start\n",
        "  col_array = np.vstack((col_array,\n",
        "                         np.array([v1_id, v2_id, total_time, collision_prob, 1])))\n",
        "\n",
        "# Non-collisions\n",
        "for i in range(df_nocol.shape[0]):\n",
        "  v1_id = df_nocol.iloc[i, 0]\n",
        "  v2_id = df_nocol.iloc[i, 1]\n",
        "  y_v1 = np.array(df[df['vehicle_id'] == v1_id].iloc[-5:, 2:]).reshape(-1, 3)\n",
        "  y_v2 = np.array(df[df['vehicle_id'] == v2_id].iloc[-5:, 2:]).reshape(-1, 3)\n",
        "\n",
        "  start = time.time()\n",
        "  collision_prob = collision_probability(y_v1, y_v2, num_samples=SAMPLES)\n",
        "  total_time = time.time() - start\n",
        "  col_array = np.vstack((col_array,\n",
        "                         np.array([v1_id, v2_id, total_time, collision_prob, 0])))\n",
        "\n",
        "PROB_FILE = os.path.join(DATASETS_FOLDER, \"collision_prob_real_250.csv\")\n",
        "\n",
        "df_collision_prob_250 = pd.DataFrame(\n",
        "    col_array.reshape(-1, 5),\n",
        "    columns=['vehicle1', 'vehicle2', 'execution_time', 'probability', 'collision'])\n",
        "df_collision_prob_250.to_csv(PROB_FILE, index=False)\n",
        "df_collision_prob_250.head()"
      ],
      "metadata": {
        "colab": {
          "base_uri": "https://localhost:8080/",
          "height": 206
        },
        "id": "4r3osHxMIqCu",
        "outputId": "7df41362-2fd6-4b36-fc2b-a1903c351d0f"
      },
      "execution_count": null,
      "outputs": [
        {
          "output_type": "execute_result",
          "data": {
            "text/plain": [
              "   vehicle1  vehicle2  execution_time  probability  collision\n",
              "0    2892.0    2940.0        0.803039        0.160        1.0\n",
              "1    3850.0    3849.0        0.779500        0.060        1.0\n",
              "2    7638.0    7590.0        0.756719        0.120        1.0\n",
              "3     970.0    1160.0        0.774885        0.052        1.0\n",
              "4    3859.0    3803.0        0.770264        0.060        1.0"
            ],
            "text/html": [
              "\n",
              "  <div id=\"df-2463657a-19ed-4e75-b70a-2b29319f1478\">\n",
              "    <div class=\"colab-df-container\">\n",
              "      <div>\n",
              "<style scoped>\n",
              "    .dataframe tbody tr th:only-of-type {\n",
              "        vertical-align: middle;\n",
              "    }\n",
              "\n",
              "    .dataframe tbody tr th {\n",
              "        vertical-align: top;\n",
              "    }\n",
              "\n",
              "    .dataframe thead th {\n",
              "        text-align: right;\n",
              "    }\n",
              "</style>\n",
              "<table border=\"1\" class=\"dataframe\">\n",
              "  <thead>\n",
              "    <tr style=\"text-align: right;\">\n",
              "      <th></th>\n",
              "      <th>vehicle1</th>\n",
              "      <th>vehicle2</th>\n",
              "      <th>execution_time</th>\n",
              "      <th>probability</th>\n",
              "      <th>collision</th>\n",
              "    </tr>\n",
              "  </thead>\n",
              "  <tbody>\n",
              "    <tr>\n",
              "      <th>0</th>\n",
              "      <td>2892.0</td>\n",
              "      <td>2940.0</td>\n",
              "      <td>0.803039</td>\n",
              "      <td>0.160</td>\n",
              "      <td>1.0</td>\n",
              "    </tr>\n",
              "    <tr>\n",
              "      <th>1</th>\n",
              "      <td>3850.0</td>\n",
              "      <td>3849.0</td>\n",
              "      <td>0.779500</td>\n",
              "      <td>0.060</td>\n",
              "      <td>1.0</td>\n",
              "    </tr>\n",
              "    <tr>\n",
              "      <th>2</th>\n",
              "      <td>7638.0</td>\n",
              "      <td>7590.0</td>\n",
              "      <td>0.756719</td>\n",
              "      <td>0.120</td>\n",
              "      <td>1.0</td>\n",
              "    </tr>\n",
              "    <tr>\n",
              "      <th>3</th>\n",
              "      <td>970.0</td>\n",
              "      <td>1160.0</td>\n",
              "      <td>0.774885</td>\n",
              "      <td>0.052</td>\n",
              "      <td>1.0</td>\n",
              "    </tr>\n",
              "    <tr>\n",
              "      <th>4</th>\n",
              "      <td>3859.0</td>\n",
              "      <td>3803.0</td>\n",
              "      <td>0.770264</td>\n",
              "      <td>0.060</td>\n",
              "      <td>1.0</td>\n",
              "    </tr>\n",
              "  </tbody>\n",
              "</table>\n",
              "</div>\n",
              "      <button class=\"colab-df-convert\" onclick=\"convertToInteractive('df-2463657a-19ed-4e75-b70a-2b29319f1478')\"\n",
              "              title=\"Convert this dataframe to an interactive table.\"\n",
              "              style=\"display:none;\">\n",
              "        \n",
              "  <svg xmlns=\"http://www.w3.org/2000/svg\" height=\"24px\"viewBox=\"0 0 24 24\"\n",
              "       width=\"24px\">\n",
              "    <path d=\"M0 0h24v24H0V0z\" fill=\"none\"/>\n",
              "    <path d=\"M18.56 5.44l.94 2.06.94-2.06 2.06-.94-2.06-.94-.94-2.06-.94 2.06-2.06.94zm-11 1L8.5 8.5l.94-2.06 2.06-.94-2.06-.94L8.5 2.5l-.94 2.06-2.06.94zm10 10l.94 2.06.94-2.06 2.06-.94-2.06-.94-.94-2.06-.94 2.06-2.06.94z\"/><path d=\"M17.41 7.96l-1.37-1.37c-.4-.4-.92-.59-1.43-.59-.52 0-1.04.2-1.43.59L10.3 9.45l-7.72 7.72c-.78.78-.78 2.05 0 2.83L4 21.41c.39.39.9.59 1.41.59.51 0 1.02-.2 1.41-.59l7.78-7.78 2.81-2.81c.8-.78.8-2.07 0-2.86zM5.41 20L4 18.59l7.72-7.72 1.47 1.35L5.41 20z\"/>\n",
              "  </svg>\n",
              "      </button>\n",
              "      \n",
              "  <style>\n",
              "    .colab-df-container {\n",
              "      display:flex;\n",
              "      flex-wrap:wrap;\n",
              "      gap: 12px;\n",
              "    }\n",
              "\n",
              "    .colab-df-convert {\n",
              "      background-color: #E8F0FE;\n",
              "      border: none;\n",
              "      border-radius: 50%;\n",
              "      cursor: pointer;\n",
              "      display: none;\n",
              "      fill: #1967D2;\n",
              "      height: 32px;\n",
              "      padding: 0 0 0 0;\n",
              "      width: 32px;\n",
              "    }\n",
              "\n",
              "    .colab-df-convert:hover {\n",
              "      background-color: #E2EBFA;\n",
              "      box-shadow: 0px 1px 2px rgba(60, 64, 67, 0.3), 0px 1px 3px 1px rgba(60, 64, 67, 0.15);\n",
              "      fill: #174EA6;\n",
              "    }\n",
              "\n",
              "    [theme=dark] .colab-df-convert {\n",
              "      background-color: #3B4455;\n",
              "      fill: #D2E3FC;\n",
              "    }\n",
              "\n",
              "    [theme=dark] .colab-df-convert:hover {\n",
              "      background-color: #434B5C;\n",
              "      box-shadow: 0px 1px 3px 1px rgba(0, 0, 0, 0.15);\n",
              "      filter: drop-shadow(0px 1px 2px rgba(0, 0, 0, 0.3));\n",
              "      fill: #FFFFFF;\n",
              "    }\n",
              "  </style>\n",
              "\n",
              "      <script>\n",
              "        const buttonEl =\n",
              "          document.querySelector('#df-2463657a-19ed-4e75-b70a-2b29319f1478 button.colab-df-convert');\n",
              "        buttonEl.style.display =\n",
              "          google.colab.kernel.accessAllowed ? 'block' : 'none';\n",
              "\n",
              "        async function convertToInteractive(key) {\n",
              "          const element = document.querySelector('#df-2463657a-19ed-4e75-b70a-2b29319f1478');\n",
              "          const dataTable =\n",
              "            await google.colab.kernel.invokeFunction('convertToInteractive',\n",
              "                                                     [key], {});\n",
              "          if (!dataTable) return;\n",
              "\n",
              "          const docLinkHtml = 'Like what you see? Visit the ' +\n",
              "            '<a target=\"_blank\" href=https://colab.research.google.com/notebooks/data_table.ipynb>data table notebook</a>'\n",
              "            + ' to learn more about interactive tables.';\n",
              "          element.innerHTML = '';\n",
              "          dataTable['output_type'] = 'display_data';\n",
              "          await google.colab.output.renderOutput(dataTable, element);\n",
              "          const docLink = document.createElement('div');\n",
              "          docLink.innerHTML = docLinkHtml;\n",
              "          element.appendChild(docLink);\n",
              "        }\n",
              "      </script>\n",
              "    </div>\n",
              "  </div>\n",
              "  "
            ]
          },
          "metadata": {},
          "execution_count": 47
        }
      ]
    },
    {
      "cell_type": "code",
      "source": [
        "PROB_FILE = os.path.join(DATASETS_FOLDER, \"collision_prob_real_250.csv\")\n",
        "df_collision_prob_250 = pd.read_csv(PROB_FILE)"
      ],
      "metadata": {
        "id": "UVt1A4bjnUh0"
      },
      "execution_count": null,
      "outputs": []
    },
    {
      "cell_type": "code",
      "source": [
        "collisions = df_collision_prob_250[df_collision_prob_250['collision'] == 1]\n",
        "no_collisions = df_collision_prob_250[df_collision_prob_250['collision'] == 0]\n",
        "\n",
        "print(\"Average collision probability for collisions: {}\"\n",
        "      .format(np.mean(collisions['probability'])))\n",
        "print(\"Average collision probability for non-collisions: {}\"\n",
        "      .format(np.mean(no_collisions['probability'])))\n",
        "\n",
        "print(\"Average execution time for collisions: {}\"\n",
        "      .format(np.mean(collisions['execution_time'])))\n",
        "print(\"Average execution time for non-collisions: {}\"\n",
        "      .format(np.mean(no_collisions['execution_time'])))\n",
        "print(\"Average execution time: {}\"\n",
        "      .format(np.mean(df_collision_prob_250['execution_time'])))"
      ],
      "metadata": {
        "colab": {
          "base_uri": "https://localhost:8080/"
        },
        "id": "yU8ivF3knX0A",
        "outputId": "6009e1d9-b47f-4442-bb75-ff5fa371ee63"
      },
      "execution_count": null,
      "outputs": [
        {
          "output_type": "stream",
          "name": "stdout",
          "text": [
            "Average collision probability for collisions: 0.09399200000000002\n",
            "Average collision probability for non-collisions: 0.001908\n",
            "Average execution time for collisions: 0.8540892555713654\n",
            "Average execution time for non-collisions: 0.8540034263134003\n",
            "Average execution time: 0.8540463409423829\n"
          ]
        }
      ]
    },
    {
      "cell_type": "code",
      "source": [
        "collisions['probability'].describe()"
      ],
      "metadata": {
        "colab": {
          "base_uri": "https://localhost:8080/"
        },
        "id": "LZuubpijtrCI",
        "outputId": "47c14ae0-60f0-421a-8013-8d8043e127e9"
      },
      "execution_count": null,
      "outputs": [
        {
          "output_type": "execute_result",
          "data": {
            "text/plain": [
              "count    1000.000000\n",
              "mean        0.093992\n",
              "std         0.114754\n",
              "min         0.000000\n",
              "25%         0.020000\n",
              "50%         0.052000\n",
              "75%         0.128000\n",
              "max         0.824000\n",
              "Name: probability, dtype: float64"
            ]
          },
          "metadata": {},
          "execution_count": 44
        }
      ]
    },
    {
      "cell_type": "code",
      "source": [
        "collision_threshold = 0.02\n",
        "print(\"Valores por encima de la media en las colisiones: {}\"\n",
        "      .format(len(collisions[collisions['probability'] >= collision_threshold])))\n",
        "print(\"Valores por debajo de la media en las colisiones: {}\"\n",
        "      .format(len(collisions[collisions['probability'] < collision_threshold])))\n",
        "\n",
        "print(\"Valores por encima de la media en las no-colisiones: {}\"\n",
        "      .format(len(no_collisions[no_collisions['probability'] >= collision_threshold])))\n",
        "print(\"Valores por debajo de la media en las no-colisiones: {}\"\n",
        "      .format(len(no_collisions[no_collisions['probability'] < collision_threshold])))"
      ],
      "metadata": {
        "colab": {
          "base_uri": "https://localhost:8080/"
        },
        "id": "2p5xxmaqs_ex",
        "outputId": "bea4ed9e-91ab-412b-cf7b-27c01c5d1a3f"
      },
      "execution_count": null,
      "outputs": [
        {
          "output_type": "stream",
          "name": "stdout",
          "text": [
            "Valores por encima de la media en las colisiones: 758\n",
            "Valores por debajo de la media en las colisiones: 242\n",
            "Valores por encima de la media en las no-colisiones: 9\n",
            "Valores por debajo de la media en las no-colisiones: 991\n"
          ]
        }
      ]
    },
    {
      "cell_type": "markdown",
      "source": [
        "### N = 300"
      ],
      "metadata": {
        "id": "trdkWBaoIyh_"
      }
    },
    {
      "cell_type": "code",
      "execution_count": null,
      "metadata": {
        "colab": {
          "base_uri": "https://localhost:8080/",
          "height": 206
        },
        "id": "AKOel8GGQR3F",
        "outputId": "bd0608b4-44d5-44ca-d1c2-c340fd135bcc"
      },
      "outputs": [
        {
          "output_type": "execute_result",
          "data": {
            "text/plain": [
              "   vehicle1  vehicle2  execution_time  probability  collision\n",
              "0    2892.0    2940.0        1.095452     0.200000        1.0\n",
              "1    3850.0    3849.0        0.921500     0.050000        1.0\n",
              "2    7638.0    7590.0        0.911203     0.126667        1.0\n",
              "3     970.0    1160.0        0.924843     0.080000        1.0\n",
              "4    3859.0    3803.0        0.904333     0.040000        1.0"
            ],
            "text/html": [
              "\n",
              "  <div id=\"df-5c0dac99-9564-4a34-aa44-c5f2b4a0fc05\">\n",
              "    <div class=\"colab-df-container\">\n",
              "      <div>\n",
              "<style scoped>\n",
              "    .dataframe tbody tr th:only-of-type {\n",
              "        vertical-align: middle;\n",
              "    }\n",
              "\n",
              "    .dataframe tbody tr th {\n",
              "        vertical-align: top;\n",
              "    }\n",
              "\n",
              "    .dataframe thead th {\n",
              "        text-align: right;\n",
              "    }\n",
              "</style>\n",
              "<table border=\"1\" class=\"dataframe\">\n",
              "  <thead>\n",
              "    <tr style=\"text-align: right;\">\n",
              "      <th></th>\n",
              "      <th>vehicle1</th>\n",
              "      <th>vehicle2</th>\n",
              "      <th>execution_time</th>\n",
              "      <th>probability</th>\n",
              "      <th>collision</th>\n",
              "    </tr>\n",
              "  </thead>\n",
              "  <tbody>\n",
              "    <tr>\n",
              "      <th>0</th>\n",
              "      <td>2892.0</td>\n",
              "      <td>2940.0</td>\n",
              "      <td>1.095452</td>\n",
              "      <td>0.200000</td>\n",
              "      <td>1.0</td>\n",
              "    </tr>\n",
              "    <tr>\n",
              "      <th>1</th>\n",
              "      <td>3850.0</td>\n",
              "      <td>3849.0</td>\n",
              "      <td>0.921500</td>\n",
              "      <td>0.050000</td>\n",
              "      <td>1.0</td>\n",
              "    </tr>\n",
              "    <tr>\n",
              "      <th>2</th>\n",
              "      <td>7638.0</td>\n",
              "      <td>7590.0</td>\n",
              "      <td>0.911203</td>\n",
              "      <td>0.126667</td>\n",
              "      <td>1.0</td>\n",
              "    </tr>\n",
              "    <tr>\n",
              "      <th>3</th>\n",
              "      <td>970.0</td>\n",
              "      <td>1160.0</td>\n",
              "      <td>0.924843</td>\n",
              "      <td>0.080000</td>\n",
              "      <td>1.0</td>\n",
              "    </tr>\n",
              "    <tr>\n",
              "      <th>4</th>\n",
              "      <td>3859.0</td>\n",
              "      <td>3803.0</td>\n",
              "      <td>0.904333</td>\n",
              "      <td>0.040000</td>\n",
              "      <td>1.0</td>\n",
              "    </tr>\n",
              "  </tbody>\n",
              "</table>\n",
              "</div>\n",
              "      <button class=\"colab-df-convert\" onclick=\"convertToInteractive('df-5c0dac99-9564-4a34-aa44-c5f2b4a0fc05')\"\n",
              "              title=\"Convert this dataframe to an interactive table.\"\n",
              "              style=\"display:none;\">\n",
              "        \n",
              "  <svg xmlns=\"http://www.w3.org/2000/svg\" height=\"24px\"viewBox=\"0 0 24 24\"\n",
              "       width=\"24px\">\n",
              "    <path d=\"M0 0h24v24H0V0z\" fill=\"none\"/>\n",
              "    <path d=\"M18.56 5.44l.94 2.06.94-2.06 2.06-.94-2.06-.94-.94-2.06-.94 2.06-2.06.94zm-11 1L8.5 8.5l.94-2.06 2.06-.94-2.06-.94L8.5 2.5l-.94 2.06-2.06.94zm10 10l.94 2.06.94-2.06 2.06-.94-2.06-.94-.94-2.06-.94 2.06-2.06.94z\"/><path d=\"M17.41 7.96l-1.37-1.37c-.4-.4-.92-.59-1.43-.59-.52 0-1.04.2-1.43.59L10.3 9.45l-7.72 7.72c-.78.78-.78 2.05 0 2.83L4 21.41c.39.39.9.59 1.41.59.51 0 1.02-.2 1.41-.59l7.78-7.78 2.81-2.81c.8-.78.8-2.07 0-2.86zM5.41 20L4 18.59l7.72-7.72 1.47 1.35L5.41 20z\"/>\n",
              "  </svg>\n",
              "      </button>\n",
              "      \n",
              "  <style>\n",
              "    .colab-df-container {\n",
              "      display:flex;\n",
              "      flex-wrap:wrap;\n",
              "      gap: 12px;\n",
              "    }\n",
              "\n",
              "    .colab-df-convert {\n",
              "      background-color: #E8F0FE;\n",
              "      border: none;\n",
              "      border-radius: 50%;\n",
              "      cursor: pointer;\n",
              "      display: none;\n",
              "      fill: #1967D2;\n",
              "      height: 32px;\n",
              "      padding: 0 0 0 0;\n",
              "      width: 32px;\n",
              "    }\n",
              "\n",
              "    .colab-df-convert:hover {\n",
              "      background-color: #E2EBFA;\n",
              "      box-shadow: 0px 1px 2px rgba(60, 64, 67, 0.3), 0px 1px 3px 1px rgba(60, 64, 67, 0.15);\n",
              "      fill: #174EA6;\n",
              "    }\n",
              "\n",
              "    [theme=dark] .colab-df-convert {\n",
              "      background-color: #3B4455;\n",
              "      fill: #D2E3FC;\n",
              "    }\n",
              "\n",
              "    [theme=dark] .colab-df-convert:hover {\n",
              "      background-color: #434B5C;\n",
              "      box-shadow: 0px 1px 3px 1px rgba(0, 0, 0, 0.15);\n",
              "      filter: drop-shadow(0px 1px 2px rgba(0, 0, 0, 0.3));\n",
              "      fill: #FFFFFF;\n",
              "    }\n",
              "  </style>\n",
              "\n",
              "      <script>\n",
              "        const buttonEl =\n",
              "          document.querySelector('#df-5c0dac99-9564-4a34-aa44-c5f2b4a0fc05 button.colab-df-convert');\n",
              "        buttonEl.style.display =\n",
              "          google.colab.kernel.accessAllowed ? 'block' : 'none';\n",
              "\n",
              "        async function convertToInteractive(key) {\n",
              "          const element = document.querySelector('#df-5c0dac99-9564-4a34-aa44-c5f2b4a0fc05');\n",
              "          const dataTable =\n",
              "            await google.colab.kernel.invokeFunction('convertToInteractive',\n",
              "                                                     [key], {});\n",
              "          if (!dataTable) return;\n",
              "\n",
              "          const docLinkHtml = 'Like what you see? Visit the ' +\n",
              "            '<a target=\"_blank\" href=https://colab.research.google.com/notebooks/data_table.ipynb>data table notebook</a>'\n",
              "            + ' to learn more about interactive tables.';\n",
              "          element.innerHTML = '';\n",
              "          dataTable['output_type'] = 'display_data';\n",
              "          await google.colab.output.renderOutput(dataTable, element);\n",
              "          const docLink = document.createElement('div');\n",
              "          docLink.innerHTML = docLinkHtml;\n",
              "          element.appendChild(docLink);\n",
              "        }\n",
              "      </script>\n",
              "    </div>\n",
              "  </div>\n",
              "  "
            ]
          },
          "metadata": {},
          "execution_count": 13
        }
      ],
      "source": [
        "SAMPLES=300\n",
        "\n",
        "col_array = np.empty((0, 5))\n",
        "# Collisions\n",
        "for i in range(df_col.shape[0]):\n",
        "  v1_id = df_col.iloc[i, 0]\n",
        "  v2_id = df_col.iloc[i, 1]\n",
        "  y_v1 = np.array(df[df['vehicle_id'] == v1_id].iloc[-5:, 2:]).reshape(-1, 3)\n",
        "  y_v2 = np.array(df[df['vehicle_id'] == v2_id].iloc[-5:, 2:]).reshape(-1, 3)\n",
        "\n",
        "  start = time.time()\n",
        "  collision_prob = collision_probability(y_v1, y_v2, num_samples=SAMPLES)\n",
        "  total_time = time.time() - start\n",
        "  col_array = np.vstack((col_array,\n",
        "                         np.array([v1_id, v2_id, total_time, collision_prob, 1])))\n",
        "\n",
        "# Non collisions\n",
        "for i in range(df_nocol.shape[0]):\n",
        "  v1_id = df_nocol.iloc[i, 0]\n",
        "  v2_id = df_nocol.iloc[i, 1]\n",
        "  y_v1 = np.array(df[df['vehicle_id'] == v1_id].iloc[-5:, 2:]).reshape(-1, 3)\n",
        "  y_v2 = np.array(df[df['vehicle_id'] == v2_id].iloc[-5:, 2:]).reshape(-1, 3)\n",
        "\n",
        "  start = time.time()\n",
        "  collision_prob = collision_probability(y_v1, y_v2, num_samples=SAMPLES)\n",
        "  total_time = time.time() - start\n",
        "  col_array = np.vstack((col_array,\n",
        "                         np.array([v1_id, v2_id, total_time, collision_prob, 0])))\n",
        "\n",
        "PROB_FILE = os.path.join(DATASETS_FOLDER, \"collision_prob_real_300.csv\")\n",
        "\n",
        "df_collision_prob_300 = pd.DataFrame(\n",
        "    col_array.reshape(-1, 5),\n",
        "    columns=['vehicle1', 'vehicle2', 'execution_time', 'probability', 'collision'])\n",
        "df_collision_prob_300.to_csv(PROB_FILE, index=False)\n",
        "df_collision_prob_300.head()"
      ]
    },
    {
      "cell_type": "code",
      "source": [
        "PROB_FILE = os.path.join(DATASETS_FOLDER, \"collision_prob_real_300.csv\")\n",
        "df_collision_prob_300 = pd.read_csv(PROB_FILE)"
      ],
      "metadata": {
        "id": "SeYLH4qqoA1R"
      },
      "execution_count": null,
      "outputs": []
    },
    {
      "cell_type": "code",
      "execution_count": null,
      "metadata": {
        "colab": {
          "base_uri": "https://localhost:8080/"
        },
        "id": "KshhgS77YOyM",
        "outputId": "ab62493b-107e-4c04-f365-365c2b5e7063"
      },
      "outputs": [
        {
          "output_type": "stream",
          "name": "stdout",
          "text": [
            "Average collision probability for collisions: 0.09375999999999997\n",
            "Average collision probability for non-collisions: 0.0019433333333333325\n",
            "Average execution time for collisions: 1.025880809545517\n",
            "Average execution time for non-collisions: 1.0099853465557098\n",
            "Average execution time: 1.0179330780506135\n"
          ]
        }
      ],
      "source": [
        "collisions = df_collision_prob_300[df_collision_prob_300['collision'] == 1]\n",
        "no_collisions = df_collision_prob_300[df_collision_prob_300['collision'] == 0]\n",
        "\n",
        "print(\"Average collision probability for collisions: {}\"\n",
        "      .format(np.mean(collisions['probability'])))\n",
        "print(\"Average collision probability for non-collisions: {}\"\n",
        "      .format(np.mean(no_collisions['probability'])))\n",
        "\n",
        "print(\"Average execution time for collisions: {}\"\n",
        "      .format(np.mean(collisions['execution_time'])))\n",
        "print(\"Average execution time for non-collisions: {}\"\n",
        "      .format(np.mean(no_collisions['execution_time'])))\n",
        "print(\"Average execution time: {}\"\n",
        "      .format(np.mean(df_collision_prob_300['execution_time'])))"
      ]
    },
    {
      "cell_type": "code",
      "execution_count": null,
      "metadata": {
        "colab": {
          "base_uri": "https://localhost:8080/"
        },
        "id": "G3HZ5eUQ4Wyw",
        "outputId": "08fbf157-75d5-4001-da0b-3ebc69b05b43"
      },
      "outputs": [
        {
          "output_type": "execute_result",
          "data": {
            "text/plain": [
              "count    1000.000000\n",
              "mean        0.093760\n",
              "std         0.113262\n",
              "min         0.000000\n",
              "25%         0.020000\n",
              "50%         0.053333\n",
              "75%         0.126667\n",
              "max         0.833333\n",
              "Name: probability, dtype: float64"
            ]
          },
          "metadata": {},
          "execution_count": 46
        }
      ],
      "source": [
        "collisions['probability'].describe()"
      ]
    },
    {
      "cell_type": "code",
      "execution_count": null,
      "metadata": {
        "colab": {
          "base_uri": "https://localhost:8080/"
        },
        "id": "zXmt1ryI8biF",
        "outputId": "e06947fa-61f9-4765-f203-3da7f107cbdb"
      },
      "outputs": [
        {
          "output_type": "execute_result",
          "data": {
            "text/plain": [
              "count    1000.000000\n",
              "mean        0.001943\n",
              "std         0.034187\n",
              "min         0.000000\n",
              "25%         0.000000\n",
              "50%         0.000000\n",
              "75%         0.000000\n",
              "max         1.000000\n",
              "Name: probability, dtype: float64"
            ]
          },
          "metadata": {},
          "execution_count": 12
        }
      ],
      "source": [
        "no_collisions['probability'].describe()"
      ]
    },
    {
      "cell_type": "code",
      "execution_count": null,
      "metadata": {
        "colab": {
          "base_uri": "https://localhost:8080/"
        },
        "id": "G7vHUroylSBl",
        "outputId": "1eb4a325-2a78-46a3-c151-558f63c483fb"
      },
      "outputs": [
        {
          "output_type": "stream",
          "name": "stdout",
          "text": [
            "Valores por encima de la media en las colisiones: 802\n",
            "Valores por debajo de la media en las colisiones: 198\n",
            "Valores por encima de la media en las no-colisiones: 10\n",
            "Valores por debajo de la media en las no-colisiones: 990\n"
          ]
        }
      ],
      "source": [
        "collision_threshold = 0.01\n",
        "print(\"Valores por encima de la media en las colisiones: {}\"\n",
        "      .format(len(collisions[collisions['probability'] >= collision_threshold])))\n",
        "print(\"Valores por debajo de la media en las colisiones: {}\"\n",
        "      .format(len(collisions[collisions['probability'] < collision_threshold])))\n",
        "\n",
        "print(\"Valores por encima de la media en las no-colisiones: {}\"\n",
        "      .format(len(no_collisions[no_collisions['probability'] >= collision_threshold])))\n",
        "print(\"Valores por debajo de la media en las no-colisiones: {}\"\n",
        "      .format(len(no_collisions[no_collisions['probability'] < collision_threshold])))\n"
      ]
    },
    {
      "cell_type": "code",
      "execution_count": null,
      "metadata": {
        "colab": {
          "base_uri": "https://localhost:8080/",
          "height": 718
        },
        "id": "qF0uck8VlVf9",
        "outputId": "333f7332-d5a3-40ca-c32a-8540ba5db369"
      },
      "outputs": [
        {
          "output_type": "display_data",
          "data": {
            "text/plain": [
              "<Figure size 1500x800 with 2 Axes>"
            ],
            "image/png": "[encoded data removed]"
          },
          "metadata": {}
        }
      ],
      "source": [
        "# RC\n",
        "data_prob = [collisions['probability'], no_collisions['probability']]\n",
        "data_time = [collisions['execution_time'], no_collisions['execution_time']]\n",
        "\n",
        "fig, ax = plt.subplots(nrows=1, ncols=2, figsize=(15, 8))\n",
        "ax[0].boxplot(data_prob, showmeans=True, patch_artist = True,\n",
        "              labels=['Yes', 'No'])\n",
        "ax[0].set_title(\"Collision probability (real trajectories)\")\n",
        "ax[0].set_xlabel(\"Collision\")\n",
        "\n",
        "ax[1].boxplot(data_time, showmeans=True, patch_artist = True,\n",
        "              labels=['Yes', 'No'])\n",
        "ax[1].set_title(\"Calculation time (real trajectories)\")\n",
        "ax[1].set_xlabel(\"Collision\")\n",
        "plt.show()\n"
      ]
    },
    {
      "cell_type": "markdown",
      "source": [
        "### N = 350"
      ],
      "metadata": {
        "id": "2ChmDUizoPyd"
      }
    },
    {
      "cell_type": "code",
      "source": [
        "SAMPLES=350\n",
        "\n",
        "col_array = np.empty((0, 5))\n",
        "# Collisions\n",
        "for i in range(df_col.shape[0]):\n",
        "  v1_id = df_col.iloc[i, 0]\n",
        "  v2_id = df_col.iloc[i, 1]\n",
        "  y_v1 = np.array(df[df['vehicle_id'] == v1_id].iloc[-5:, 2:]).reshape(-1, 3)\n",
        "  y_v2 = np.array(df[df['vehicle_id'] == v2_id].iloc[-5:, 2:]).reshape(-1, 3)\n",
        "\n",
        "  start = time.time()\n",
        "  collision_prob = collision_probability(y_v1, y_v2, num_samples=SAMPLES)\n",
        "  total_time = time.time() - start\n",
        "  col_array = np.vstack((col_array,\n",
        "                         np.array([v1_id, v2_id, total_time, collision_prob, 1])))\n",
        "\n",
        "# Non collisions\n",
        "for i in range(df_nocol.shape[0]):\n",
        "  v1_id = df_nocol.iloc[i, 0]\n",
        "  v2_id = df_nocol.iloc[i, 1]\n",
        "  y_v1 = np.array(df[df['vehicle_id'] == v1_id].iloc[-5:, 2:]).reshape(-1, 3)\n",
        "  y_v2 = np.array(df[df['vehicle_id'] == v2_id].iloc[-5:, 2:]).reshape(-1, 3)\n",
        "\n",
        "  start = time.time()\n",
        "  collision_prob = collision_probability(y_v1, y_v2, num_samples=SAMPLES)\n",
        "  total_time = time.time() - start\n",
        "  col_array = np.vstack((col_array,\n",
        "                         np.array([v1_id, v2_id, total_time, collision_prob, 0])))\n",
        "\n",
        "MODEL_FOLDER = os.path.join(\"TFM\", \"implementation\")\n",
        "PROB_FILE = os.path.join(DATASETS_FOLDER, \"collision_prob_real_350.csv\")\n",
        "\n",
        "df_collision_prob_350 = pd.DataFrame(\n",
        "    col_array.reshape(-1, 5),\n",
        "    columns=['vehicle1', 'vehicle2', 'execution_time', 'probability', 'collision'])\n",
        "df_collision_prob_350.to_csv(PROB_FILE, index=False)\n",
        "df_collision_prob_350.head()"
      ],
      "metadata": {
        "colab": {
          "base_uri": "https://localhost:8080/",
          "height": 206
        },
        "id": "1wn5S4u1oVMa",
        "outputId": "313e52f7-6a2b-4f01-8519-1ca2c79eb8ee"
      },
      "execution_count": null,
      "outputs": [
        {
          "output_type": "execute_result",
          "data": {
            "text/plain": [
              "   vehicle1  vehicle2  execution_time  probability  collision\n",
              "0    2892.0    2940.0        1.100922     0.182857        1.0\n",
              "1    3850.0    3849.0        1.058096     0.045714        1.0\n",
              "2    7638.0    7590.0        1.081024     0.140000        1.0\n",
              "3     970.0    1160.0        1.047849     0.048571        1.0\n",
              "4    3859.0    3803.0        1.272998     0.045714        1.0"
            ],
            "text/html": [
              "\n",
              "  <div id=\"df-61c058a6-2985-470c-b4e2-b7755313b848\">\n",
              "    <div class=\"colab-df-container\">\n",
              "      <div>\n",
              "<style scoped>\n",
              "    .dataframe tbody tr th:only-of-type {\n",
              "        vertical-align: middle;\n",
              "    }\n",
              "\n",
              "    .dataframe tbody tr th {\n",
              "        vertical-align: top;\n",
              "    }\n",
              "\n",
              "    .dataframe thead th {\n",
              "        text-align: right;\n",
              "    }\n",
              "</style>\n",
              "<table border=\"1\" class=\"dataframe\">\n",
              "  <thead>\n",
              "    <tr style=\"text-align: right;\">\n",
              "      <th></th>\n",
              "      <th>vehicle1</th>\n",
              "      <th>vehicle2</th>\n",
              "      <th>execution_time</th>\n",
              "      <th>probability</th>\n",
              "      <th>collision</th>\n",
              "    </tr>\n",
              "  </thead>\n",
              "  <tbody>\n",
              "    <tr>\n",
              "      <th>0</th>\n",
              "      <td>2892.0</td>\n",
              "      <td>2940.0</td>\n",
              "      <td>1.100922</td>\n",
              "      <td>0.182857</td>\n",
              "      <td>1.0</td>\n",
              "    </tr>\n",
              "    <tr>\n",
              "      <th>1</th>\n",
              "      <td>3850.0</td>\n",
              "      <td>3849.0</td>\n",
              "      <td>1.058096</td>\n",
              "      <td>0.045714</td>\n",
              "      <td>1.0</td>\n",
              "    </tr>\n",
              "    <tr>\n",
              "      <th>2</th>\n",
              "      <td>7638.0</td>\n",
              "      <td>7590.0</td>\n",
              "      <td>1.081024</td>\n",
              "      <td>0.140000</td>\n",
              "      <td>1.0</td>\n",
              "    </tr>\n",
              "    <tr>\n",
              "      <th>3</th>\n",
              "      <td>970.0</td>\n",
              "      <td>1160.0</td>\n",
              "      <td>1.047849</td>\n",
              "      <td>0.048571</td>\n",
              "      <td>1.0</td>\n",
              "    </tr>\n",
              "    <tr>\n",
              "      <th>4</th>\n",
              "      <td>3859.0</td>\n",
              "      <td>3803.0</td>\n",
              "      <td>1.272998</td>\n",
              "      <td>0.045714</td>\n",
              "      <td>1.0</td>\n",
              "    </tr>\n",
              "  </tbody>\n",
              "</table>\n",
              "</div>\n",
              "      <button class=\"colab-df-convert\" onclick=\"convertToInteractive('df-61c058a6-2985-470c-b4e2-b7755313b848')\"\n",
              "              title=\"Convert this dataframe to an interactive table.\"\n",
              "              style=\"display:none;\">\n",
              "        \n",
              "  <svg xmlns=\"http://www.w3.org/2000/svg\" height=\"24px\"viewBox=\"0 0 24 24\"\n",
              "       width=\"24px\">\n",
              "    <path d=\"M0 0h24v24H0V0z\" fill=\"none\"/>\n",
              "    <path d=\"M18.56 5.44l.94 2.06.94-2.06 2.06-.94-2.06-.94-.94-2.06-.94 2.06-2.06.94zm-11 1L8.5 8.5l.94-2.06 2.06-.94-2.06-.94L8.5 2.5l-.94 2.06-2.06.94zm10 10l.94 2.06.94-2.06 2.06-.94-2.06-.94-.94-2.06-.94 2.06-2.06.94z\"/><path d=\"M17.41 7.96l-1.37-1.37c-.4-.4-.92-.59-1.43-.59-.52 0-1.04.2-1.43.59L10.3 9.45l-7.72 7.72c-.78.78-.78 2.05 0 2.83L4 21.41c.39.39.9.59 1.41.59.51 0 1.02-.2 1.41-.59l7.78-7.78 2.81-2.81c.8-.78.8-2.07 0-2.86zM5.41 20L4 18.59l7.72-7.72 1.47 1.35L5.41 20z\"/>\n",
              "  </svg>\n",
              "      </button>\n",
              "      \n",
              "  <style>\n",
              "    .colab-df-container {\n",
              "      display:flex;\n",
              "      flex-wrap:wrap;\n",
              "      gap: 12px;\n",
              "    }\n",
              "\n",
              "    .colab-df-convert {\n",
              "      background-color: #E8F0FE;\n",
              "      border: none;\n",
              "      border-radius: 50%;\n",
              "      cursor: pointer;\n",
              "      display: none;\n",
              "      fill: #1967D2;\n",
              "      height: 32px;\n",
              "      padding: 0 0 0 0;\n",
              "      width: 32px;\n",
              "    }\n",
              "\n",
              "    .colab-df-convert:hover {\n",
              "      background-color: #E2EBFA;\n",
              "      box-shadow: 0px 1px 2px rgba(60, 64, 67, 0.3), 0px 1px 3px 1px rgba(60, 64, 67, 0.15);\n",
              "      fill: #174EA6;\n",
              "    }\n",
              "\n",
              "    [theme=dark] .colab-df-convert {\n",
              "      background-color: #3B4455;\n",
              "      fill: #D2E3FC;\n",
              "    }\n",
              "\n",
              "    [theme=dark] .colab-df-convert:hover {\n",
              "      background-color: #434B5C;\n",
              "      box-shadow: 0px 1px 3px 1px rgba(0, 0, 0, 0.15);\n",
              "      filter: drop-shadow(0px 1px 2px rgba(0, 0, 0, 0.3));\n",
              "      fill: #FFFFFF;\n",
              "    }\n",
              "  </style>\n",
              "\n",
              "      <script>\n",
              "        const buttonEl =\n",
              "          document.querySelector('#df-61c058a6-2985-470c-b4e2-b7755313b848 button.colab-df-convert');\n",
              "        buttonEl.style.display =\n",
              "          google.colab.kernel.accessAllowed ? 'block' : 'none';\n",
              "\n",
              "        async function convertToInteractive(key) {\n",
              "          const element = document.querySelector('#df-61c058a6-2985-470c-b4e2-b7755313b848');\n",
              "          const dataTable =\n",
              "            await google.colab.kernel.invokeFunction('convertToInteractive',\n",
              "                                                     [key], {});\n",
              "          if (!dataTable) return;\n",
              "\n",
              "          const docLinkHtml = 'Like what you see? Visit the ' +\n",
              "            '<a target=\"_blank\" href=https://colab.research.google.com/notebooks/data_table.ipynb>data table notebook</a>'\n",
              "            + ' to learn more about interactive tables.';\n",
              "          element.innerHTML = '';\n",
              "          dataTable['output_type'] = 'display_data';\n",
              "          await google.colab.output.renderOutput(dataTable, element);\n",
              "          const docLink = document.createElement('div');\n",
              "          docLink.innerHTML = docLinkHtml;\n",
              "          element.appendChild(docLink);\n",
              "        }\n",
              "      </script>\n",
              "    </div>\n",
              "  </div>\n",
              "  "
            ]
          },
          "metadata": {},
          "execution_count": 33
        }
      ]
    },
    {
      "cell_type": "code",
      "source": [
        "PROB_FILE = os.path.join(DATASETS_FOLDER, \"collision_prob_real_350.csv\")\n",
        "df_collision_prob_350 = pd.read_csv(PROB_FILE)"
      ],
      "metadata": {
        "id": "YrYn_Wg_e6_u"
      },
      "execution_count": null,
      "outputs": []
    },
    {
      "cell_type": "code",
      "source": [
        "collisions = df_collision_prob_350[df_collision_prob_350['collision'] == 1]\n",
        "no_collisions = df_collision_prob_350[df_collision_prob_350['collision'] == 0]\n",
        "\n",
        "\n",
        "print(\"Average collision probability for collisions: {}\"\n",
        "      .format(np.mean(collisions['probability'])))\n",
        "print(\"Average collision probability for non-collisions: {}\"\n",
        "      .format(np.mean(no_collisions['probability'])))\n",
        "\n",
        "print(\"Average execution time for collisions: {}\"\n",
        "      .format(np.mean(collisions['execution_time'])))\n",
        "print(\"Average execution time for non-collisions: {}\"\n",
        "      .format(np.mean(no_collisions['execution_time'])))\n",
        "print(\"Average execution time: {}\"\n",
        "      .format(np.mean(df_collision_prob_350['execution_time'])))"
      ],
      "metadata": {
        "colab": {
          "base_uri": "https://localhost:8080/"
        },
        "id": "FI2qEY8f5IcR",
        "outputId": "e608e1af-2a66-4633-830e-f221b36a46cf"
      },
      "execution_count": null,
      "outputs": [
        {
          "output_type": "stream",
          "name": "stdout",
          "text": [
            "Average collision probability for collisions: 0.09417714285714282\n",
            "Average collision probability for non-collisions: 0.0019228571428571422\n",
            "Average execution time for collisions: 1.2235865993499755\n",
            "Average execution time for non-collisions: 1.1768054814338684\n",
            "Average execution time: 1.200196040391922\n"
          ]
        }
      ]
    },
    {
      "cell_type": "markdown",
      "metadata": {
        "id": "4YdYS2mABLW2"
      },
      "source": [
        "## 2.3 Collision probability in the predicted dataset"
      ]
    },
    {
      "cell_type": "markdown",
      "source": [
        "### Best Model"
      ],
      "metadata": {
        "id": "ouK7e9IQMEYi"
      }
    },
    {
      "cell_type": "markdown",
      "source": [
        "#### N = 200"
      ],
      "metadata": {
        "id": "vY4o24zeLUwV"
      }
    },
    {
      "cell_type": "code",
      "execution_count": null,
      "metadata": {
        "id": "WcIdaQKU9DXd"
      },
      "outputs": [],
      "source": [
        "from sklearn.linear_model import LinearRegression, RANSACRegressor\n",
        "from sklearn.gaussian_process import GaussianProcessRegressor\n",
        "from sklearn.linear_model import MultiTaskElasticNetCV\n",
        "\n",
        "# Stack Regression\n",
        "t = 5\n",
        "num = 100\n",
        "base_models = [MultiTaskElasticNetCV(),RANSACRegressor()]\n",
        "meta_model = LinearRegression()\n",
        "SAMPLES=200\n",
        "\n",
        "\n",
        "col_array = np.empty((0, 5))\n",
        "\n",
        "# Collisions\n",
        "for i in range(df_col.shape[0]):\n",
        "  v1_id = df_col.iloc[i, 0]\n",
        "  v2_id = df_col.iloc[i, 1]\n",
        "\n",
        "  # Train1\n",
        "  vehicle_train1 = df_scaled[df_scaled['vehicle_id']==v1_id].iloc[:-t]\n",
        "  # np array1\n",
        "  dat_train1 = np.array(vehicle_train1[['latitude(m)','longitude(m)','heading']])\n",
        "  pred_coor1 = fit_and_pred_stack_list(base_models, meta_model, t, num, dat_train1)\n",
        "  y_v1 = minmaxscaler.inverse_transform(pred_coor1.reshape(-1, 3))\n",
        "\n",
        "  # Train2\n",
        "  vehicle_train2 = df_scaled[df_scaled['vehicle_id']==v2_id].iloc[:-t]\n",
        "  # np array1\n",
        "  dat_train2 = np.array(vehicle_train2[['latitude(m)','longitude(m)','heading']])\n",
        "  pred_coor2 = fit_and_pred_stack_list(base_models, meta_model, t, num, dat_train2)\n",
        "  y_v2 = minmaxscaler.inverse_transform(pred_coor2.reshape(-1, 3))\n",
        "  try:\n",
        "    start = time.time()\n",
        "    collision_prob = collision_probability(y_v1, y_v2, num_samples=SAMPLES)\n",
        "    total_time = time.time() - start\n",
        "    col_array = np.vstack((col_array,\n",
        "                          np.array([v1_id, v2_id, total_time, collision_prob, 1])))\n",
        "  except ValueError:\n",
        "    continue\n",
        "# Non-collisions\n",
        "for i in range(df_nocol.shape[0]):\n",
        "  v1_id = df_nocol.iloc[i, 0]\n",
        "  v2_id = df_nocol.iloc[i, 1]\n",
        "\n",
        "  # Train1\n",
        "  vehicle_train1 = df_scaled[df_scaled['vehicle_id']==v1_id].iloc[:-t]\n",
        "  # np array1\n",
        "  dat_train1 = np.array(vehicle_train1[['latitude(m)','longitude(m)','heading']])\n",
        "  pred_coor1 = fit_and_pred_stack_list(base_models, meta_model, t, num, dat_train1)\n",
        "  y_v1 = minmaxscaler.inverse_transform(pred_coor1.reshape(-1, 3))\n",
        "\n",
        "  # Train2\n",
        "  vehicle_train2 = df_scaled[df_scaled['vehicle_id']==v2_id].iloc[:-t]\n",
        "  # np array2\n",
        "  dat_train2 = np.array(vehicle_train2[['latitude(m)','longitude(m)','heading']])\n",
        "  pred_coor2 = fit_and_pred_stack_list(base_models, meta_model, t, num, dat_train2)\n",
        "  y_v2 = minmaxscaler.inverse_transform(pred_coor2.reshape(-1, 3))\n",
        "\n",
        "  try:\n",
        "    start = time.time()\n",
        "    collision_prob = collision_probability(y_v1, y_v2, num_samples=SAMPLES)\n",
        "    total_time = time.time() - start\n",
        "    col_array = np.vstack((col_array,\n",
        "                          np.array([v1_id, v2_id, total_time, collision_prob, 0])))\n",
        "  except ValueError:\n",
        "    continue\n",
        "MODEL_FOLDER = os.path.join(\"TFM\", \"implementation\")\n",
        "PROB_FILE = os.path.join(MODEL_FOLDER, \"collision_prob_scaled_pred_1_200.csv\")\n",
        "df_collision_prob_scaled_pred_1_200 = pd.DataFrame(\n",
        "    col_array.reshape(-1, 5),\n",
        "    columns=['vehicle1', 'vehicle2', 'execution_time', 'probability', 'collision'])\n",
        "df_collision_prob_scaled_pred_1_200.to_csv(PROB_FILE, index=False)"
      ]
    },
    {
      "cell_type": "code",
      "source": [
        "MODEL_FOLDER = os.path.join(\"TFM\", \"implementation\")\n",
        "PROB_FILE = os.path.join(MODEL_FOLDER, \"df_collision_prob_scaled_pred_1_200.csv\")\n",
        "collision_prob_scaled_pred_1_200 = pd.read_csv(PROB_FILE)"
      ],
      "metadata": {
        "id": "O5NODKw6nJhP"
      },
      "execution_count": null,
      "outputs": []
    },
    {
      "cell_type": "code",
      "execution_count": null,
      "metadata": {
        "colab": {
          "base_uri": "https://localhost:8080/"
        },
        "id": "A8V_SpwiAQHd",
        "outputId": "bef77bb9-169e-4b5c-a4f1-f510edf999cb"
      },
      "outputs": [
        {
          "output_type": "stream",
          "name": "stdout",
          "text": [
            "Probabilidad media de colision para las colisiones: 0.017712712712712714\n",
            "Probabilidad media de colision para las no-colisiones: 0.0026926926926926927\n",
            "Tiempo medio de ejecuion para las colisiones: 0.47263256708780926\n",
            "Tiempo medio de ejecuion para las no-colisiones: 0.4917797710563805\n"
          ]
        }
      ],
      "source": [
        "collisions = collision_prob_scaled_pred_1_200[collision_prob_scaled_pred_1_200['collision'] == 1]\n",
        "no_collisions = collision_prob_scaled_pred_1_200[collision_prob_scaled_pred_1_200['collision'] == 0]\n",
        "\n",
        "print(\"Probabilidad media de colision para las colisiones: {}\"\n",
        "      .format(np.mean(collisions['probability'])))\n",
        "print(\"Probabilidad media de colision para las no-colisiones: {}\"\n",
        "      .format(np.mean(no_collisions['probability'])))\n",
        "\n",
        "print(\"Tiempo medio de ejecuion para las colisiones: {}\"\n",
        "      .format(np.mean(collisions['execution_time'])))\n",
        "print(\"Tiempo medio de ejecuion para las no-colisiones: {}\"\n",
        "      .format(np.mean(no_collisions['execution_time'])))"
      ]
    },
    {
      "cell_type": "code",
      "execution_count": null,
      "metadata": {
        "colab": {
          "base_uri": "https://localhost:8080/"
        },
        "id": "XyC7IO8cASmf",
        "outputId": "bb9cc9b7-0b9b-4bf7-92be-78347ad90aff"
      },
      "outputs": [
        {
          "output_type": "execute_result",
          "data": {
            "text/plain": [
              "count    999.000000\n",
              "mean       0.017713\n",
              "std        0.092790\n",
              "min        0.000000\n",
              "25%        0.000000\n",
              "50%        0.000000\n",
              "75%        0.000000\n",
              "max        1.000000\n",
              "Name: probability, dtype: float64"
            ]
          },
          "metadata": {},
          "execution_count": 59
        }
      ],
      "source": [
        "collisions['probability'].describe()"
      ]
    },
    {
      "cell_type": "code",
      "execution_count": null,
      "metadata": {
        "colab": {
          "base_uri": "https://localhost:8080/"
        },
        "id": "O_E-tFdPAVQQ",
        "outputId": "d973bf21-9006-47ec-9f03-37b6889a99d4"
      },
      "outputs": [
        {
          "output_type": "execute_result",
          "data": {
            "text/plain": [
              "count    999.000000\n",
              "mean       0.002693\n",
              "std        0.044412\n",
              "min        0.000000\n",
              "25%        0.000000\n",
              "50%        0.000000\n",
              "75%        0.000000\n",
              "max        0.965000\n",
              "Name: probability, dtype: float64"
            ]
          },
          "metadata": {},
          "execution_count": 60
        }
      ],
      "source": [
        "no_collisions['probability'].describe()"
      ]
    },
    {
      "cell_type": "code",
      "execution_count": null,
      "metadata": {
        "colab": {
          "base_uri": "https://localhost:8080/"
        },
        "id": "26ZBEP-VAXv1",
        "outputId": "a2beeac2-4238-4650-95af-709c4eb013e5"
      },
      "outputs": [
        {
          "output_type": "stream",
          "name": "stdout",
          "text": [
            "Valores por encima de la media en las colisiones: 91\n",
            "Valores por debajo de la media en las colisiones: 908\n",
            "Valores por encima de la media en las no-colisiones: 7\n",
            "Valores por debajo de la media en las no-colisiones: 992\n"
          ]
        }
      ],
      "source": [
        "collision_threshold = 0.01\n",
        "\n",
        "print(\"Valores por encima de la media en las colisiones: {}\"\n",
        "      .format(len(collisions[collisions['probability'] >= collision_threshold])))\n",
        "print(\"Valores por debajo de la media en las colisiones: {}\"\n",
        "      .format(len(collisions[collisions['probability'] < collision_threshold])))\n",
        "\n",
        "print(\"Valores por encima de la media en las no-colisiones: {}\"\n",
        "      .format(len(no_collisions[no_collisions['probability'] >= collision_threshold])))\n",
        "print(\"Valores por debajo de la media en las no-colisiones: {}\"\n",
        "      .format(len(no_collisions[no_collisions['probability'] < collision_threshold])))"
      ]
    },
    {
      "cell_type": "code",
      "execution_count": null,
      "metadata": {
        "colab": {
          "base_uri": "https://localhost:8080/",
          "height": 718
        },
        "id": "7c6OisEKAZd8",
        "outputId": "836ff4c1-72f2-4e89-cb12-aa4b77caa0a6"
      },
      "outputs": [
        {
          "output_type": "display_data",
          "data": {
            "text/plain": [
              "<Figure size 1500x800 with 2 Axes>"
            ],
            "image/png": "[encoded data removed]"
          },
          "metadata": {}
        }
      ],
      "source": [
        "data_prob = [collisions['probability'], no_collisions['probability']]\n",
        "data_time = [collisions['execution_time'], no_collisions['execution_time']]\n",
        "\n",
        "fig, ax = plt.subplots(nrows=1, ncols=2, figsize=(15, 8))\n",
        "ax[0].boxplot(data_prob, showmeans=True, patch_artist = True,\n",
        "              labels=['Yes', 'No'])\n",
        "ax[0].set_title(\"Colision probability (predicted trajectories)\")\n",
        "ax[0].set_xlabel(\"Collision\")\n",
        "\n",
        "ax[1].boxplot(data_time, showmeans=True, patch_artist = True,\n",
        "              labels=['Yes', 'No'])\n",
        "ax[1].set_title(\"Execution time (predicted trajectories)\")\n",
        "ax[1].set_xlabel(\"Collision\")\n",
        "plt.show()"
      ]
    },
    {
      "cell_type": "markdown",
      "source": [
        "#### N = 250"
      ],
      "metadata": {
        "id": "YVO32tiaMXpq"
      }
    },
    {
      "cell_type": "code",
      "source": [
        "from sklearn.linear_model import LinearRegression, RANSACRegressor\n",
        "from sklearn.gaussian_process import GaussianProcessRegressor\n",
        "from sklearn.linear_model import MultiTaskElasticNetCV\n",
        "\n",
        "# Stack Regression\n",
        "t = 5\n",
        "num = 100\n",
        "base_models = [MultiTaskElasticNetCV(),RANSACRegressor()]\n",
        "meta_model = LinearRegression()\n",
        "SAMPLES=250\n",
        "\n",
        "\n",
        "col_array = np.empty((0, 5))\n",
        "\n",
        "# Vehiculos que coinciden y colisionan\n",
        "for i in range(df_col.shape[0]):\n",
        "  v1_id = df_col.iloc[i, 0]\n",
        "  v2_id = df_col.iloc[i, 1]\n",
        "\n",
        "  # Entreno1\n",
        "  vehicle_train1 = df_scaled[df_scaled['vehicle_id']==v1_id].iloc[:-t]\n",
        "  # np array1\n",
        "  dat_train1 = np.array(vehicle_train1[['latitude(m)','longitude(m)','heading']])\n",
        "  pred_coor1 = fit_and_pred_stack_list(base_models, meta_model, t, num, dat_train1)\n",
        "  y_v1 = minmaxscaler.inverse_transform(pred_coor1.reshape(-1, 3))\n",
        "\n",
        "  # Entreno2\n",
        "  vehicle_train2 = df_scaled[df_scaled['vehicle_id']==v2_id].iloc[:-t]\n",
        "  # np array1\n",
        "  dat_train2 = np.array(vehicle_train2[['latitude(m)','longitude(m)','heading']])\n",
        "  pred_coor2 = fit_and_pred_stack_list(base_models, meta_model, t, num, dat_train2)\n",
        "  y_v2 = minmaxscaler.inverse_transform(pred_coor2.reshape(-1, 3))\n",
        "  try:\n",
        "    start = time.time()\n",
        "    collision_prob = collision_probability(y_v1, y_v2, num_samples=SAMPLES)\n",
        "    total_time = time.time() - start\n",
        "    col_array = np.vstack((col_array,\n",
        "                          np.array([v1_id, v2_id, total_time, collision_prob, 1])))\n",
        "  except ValueError:\n",
        "    continue\n",
        "# Vehiculos que coinciden pero no colisionan\n",
        "for i in range(df_nocol.shape[0]):\n",
        "  v1_id = df_nocol.iloc[i, 0]\n",
        "  v2_id = df_nocol.iloc[i, 1]\n",
        "\n",
        "\n",
        "  # METER Y_PRED:\n",
        "  # Entreno1\n",
        "  vehicle_train1 = df_scaled[df_scaled['vehicle_id']==v1_id].iloc[:-t]\n",
        "  # np array1\n",
        "  dat_train1 = np.array(vehicle_train1[['latitude(m)','longitude(m)','heading']])\n",
        "  pred_coor1 = fit_and_pred_stack_list(base_models, meta_model, t, num, dat_train1)\n",
        "  y_v1 = minmaxscaler.inverse_transform(pred_coor1.reshape(-1, 3))\n",
        "\n",
        "  # Entreno2\n",
        "  vehicle_train2 = df_scaled[df_scaled['vehicle_id']==v2_id].iloc[:-t]\n",
        "  # np array1\n",
        "  dat_train2 = np.array(vehicle_train2[['latitude(m)','longitude(m)','heading']])\n",
        "  pred_coor2 = fit_and_pred_stack_list(base_models, meta_model, t, num, dat_train2)\n",
        "  y_v2 = minmaxscaler.inverse_transform(pred_coor2.reshape(-1, 3))\n",
        "\n",
        "  try:\n",
        "    start = time.time()\n",
        "    collision_prob = collision_probability(y_v1, y_v2, num_samples=SAMPLES)\n",
        "    total_time = time.time() - start\n",
        "    col_array = np.vstack((col_array,\n",
        "                          np.array([v1_id, v2_id, total_time, collision_prob, 0])))\n",
        "  except ValueError:\n",
        "    continue\n",
        "MODEL_FOLDER = os.path.join(\"TFM\", \"implementation\")\n",
        "PROB_FILE = os.path.join(MODEL_FOLDER, \"collision_prob_scaled_pred_1_250.csv\")\n",
        "df_collision_prob_scaled_pred_1_250 = pd.DataFrame(\n",
        "    col_array.reshape(-1, 5),\n",
        "    columns=['vehicle1', 'vehicle2', 'execution_time', 'probability', 'collision'])\n",
        "df_collision_prob_scaled_pred_1_250.to_csv(PROB_FILE, index=False)"
      ],
      "metadata": {
        "id": "zj128uDAMZ6C"
      },
      "execution_count": null,
      "outputs": []
    },
    {
      "cell_type": "code",
      "source": [
        "MODEL_FOLDER = os.path.join(\"TFM\", \"implementation\")\n",
        "PROB_FILE = os.path.join(MODEL_FOLDER, \"collision_prob_scaled_pred_1_250.csv\")\n",
        "df_collision_prob_scaled_pred_1_250 = pd.read_csv(PROB_FILE)"
      ],
      "metadata": {
        "id": "j-W3wnEpnm9P"
      },
      "execution_count": null,
      "outputs": []
    },
    {
      "cell_type": "code",
      "source": [
        "collisions = df_collision_prob_scaled_pred_1_250[df_collision_prob_scaled_pred_1_250['collision'] == 1]\n",
        "no_collisions = df_collision_prob_scaled_pred_1_250[df_collision_prob_scaled_pred_1_250['collision'] == 0]\n",
        "\n",
        "print(\"Probabilidad media de colision para las colisiones: {}\"\n",
        "      .format(np.mean(collisions['probability'])))\n",
        "print(\"Probabilidad media de colision para las no-colisiones: {}\"\n",
        "      .format(np.mean(no_collisions['probability'])))\n",
        "\n",
        "print(\"Tiempo medio de ejecuion para las colisiones: {}\"\n",
        "      .format(np.mean(collisions['execution_time'])))\n",
        "print(\"Tiempo medio de ejecuion para las no-colisiones: {}\"\n",
        "      .format(np.mean(no_collisions['execution_time'])))"
      ],
      "metadata": {
        "colab": {
          "base_uri": "https://localhost:8080/"
        },
        "id": "l2FU8uxC3yTm",
        "outputId": "b0aa3662-a0c2-481b-817c-60e3de3ab427"
      },
      "execution_count": null,
      "outputs": [
        {
          "output_type": "stream",
          "name": "stdout",
          "text": [
            "Probabilidad media de colision para las colisiones: 0.017721721721721723\n",
            "Probabilidad media de colision para las no-colisiones: 0.0029949949949949948\n",
            "Tiempo medio de ejecuion para las colisiones: 0.5929520006055707\n",
            "Tiempo medio de ejecuion para las no-colisiones: 0.5908747533181528\n"
          ]
        }
      ]
    },
    {
      "cell_type": "code",
      "source": [
        "collisions['probability'].describe()"
      ],
      "metadata": {
        "colab": {
          "base_uri": "https://localhost:8080/"
        },
        "id": "9S7EOAlw38-Q",
        "outputId": "3c6fe046-5d86-4335-c6f0-c6255a94b31e"
      },
      "execution_count": null,
      "outputs": [
        {
          "output_type": "execute_result",
          "data": {
            "text/plain": [
              "count    999.000000\n",
              "mean       0.017722\n",
              "std        0.093706\n",
              "min        0.000000\n",
              "25%        0.000000\n",
              "50%        0.000000\n",
              "75%        0.000000\n",
              "max        1.000000\n",
              "Name: probability, dtype: float64"
            ]
          },
          "metadata": {},
          "execution_count": 76
        }
      ]
    },
    {
      "cell_type": "code",
      "source": [
        "no_collisions['probability'].describe()"
      ],
      "metadata": {
        "colab": {
          "base_uri": "https://localhost:8080/"
        },
        "id": "cD2PdLz641Su",
        "outputId": "97fad330-850f-42b5-c375-17ca495a658d"
      },
      "execution_count": null,
      "outputs": [
        {
          "output_type": "execute_result",
          "data": {
            "text/plain": [
              "count    999.000000\n",
              "mean       0.002995\n",
              "std        0.045741\n",
              "min        0.000000\n",
              "25%        0.000000\n",
              "50%        0.000000\n",
              "75%        0.000000\n",
              "max        0.976000\n",
              "Name: probability, dtype: float64"
            ]
          },
          "metadata": {},
          "execution_count": 14
        }
      ]
    },
    {
      "cell_type": "code",
      "source": [
        "collision_threshold = 0.008\n",
        "\n",
        "print(\"Valores por encima de la media en las colisiones: {}\"\n",
        "      .format(len(collisions[collisions['probability'] >= collision_threshold])))\n",
        "print(\"Valores por debajo de la media en las colisiones: {}\"\n",
        "      .format(len(collisions[collisions['probability'] < collision_threshold])))\n",
        "\n",
        "print(\"Valores por encima de la media en las no-colisiones: {}\"\n",
        "      .format(len(no_collisions[no_collisions['probability'] >= collision_threshold])))\n",
        "print(\"Valores por debajo de la media en las no-colisiones: {}\"\n",
        "      .format(len(no_collisions[no_collisions['probability'] < collision_threshold])))"
      ],
      "metadata": {
        "colab": {
          "base_uri": "https://localhost:8080/"
        },
        "id": "tgdzNK7z44Z3",
        "outputId": "45648890-0ac6-43f7-bb56-3f8855a89c0a"
      },
      "execution_count": null,
      "outputs": [
        {
          "output_type": "stream",
          "name": "stdout",
          "text": [
            "Valores por encima de la media en las colisiones: 90\n",
            "Valores por debajo de la media en las colisiones: 909\n",
            "Valores por encima de la media en las no-colisiones: 7\n",
            "Valores por debajo de la media en las no-colisiones: 992\n"
          ]
        }
      ]
    },
    {
      "cell_type": "code",
      "source": [
        "data_prob = [collisions['probability'], no_collisions['probability']]\n",
        "data_time = [collisions['execution_time'], no_collisions['execution_time']]\n",
        "\n",
        "fig, ax = plt.subplots(nrows=1, ncols=2, figsize=(15, 8))\n",
        "ax[0].boxplot(data_prob, showmeans=True, patch_artist = True,\n",
        "              labels=['Yes', 'No'])\n",
        "ax[0].set_title(\"Colision probability (predicted trajectories)\")\n",
        "ax[0].set_xlabel(\"Collision\")\n",
        "\n",
        "ax[1].boxplot(data_time, showmeans=True, patch_artist = True,\n",
        "              labels=['Yes', 'No'])\n",
        "ax[1].set_title(\"Execution time (predicted trajectories)\")\n",
        "ax[1].set_xlabel(\"Collision\")\n",
        "plt.show()"
      ],
      "metadata": {
        "colab": {
          "base_uri": "https://localhost:8080/",
          "height": 718
        },
        "id": "kp-Lp6rhxXBR",
        "outputId": "866be15f-3fce-451a-d63c-0fb4ea713067"
      },
      "execution_count": null,
      "outputs": [
        {
          "output_type": "display_data",
          "data": {
            "text/plain": [
              "<Figure size 1500x800 with 2 Axes>"
            ],
            "image/png": "[encoded data removed]"
          },
          "metadata": {}
        }
      ]
    },
    {
      "cell_type": "markdown",
      "source": [
        "#### N = 300"
      ],
      "metadata": {
        "id": "EI6zON9HK6ux"
      }
    },
    {
      "cell_type": "code",
      "source": [
        "from sklearn.linear_model import LinearRegression, RANSACRegressor\n",
        "from sklearn.gaussian_process import GaussianProcessRegressor\n",
        "from sklearn.linear_model import MultiTaskElasticNetCV\n",
        "\n",
        "# Stack Regression\n",
        "t = 5\n",
        "num = 100\n",
        "base_models = [MultiTaskElasticNetCV(),RANSACRegressor()]\n",
        "meta_model = LinearRegression()\n",
        "SAMPLES=300\n",
        "\n",
        "col_array = np.empty((0, 5))\n",
        "\n",
        "# Vehiculos que coinciden y colisionan\n",
        "for i in range(df_col.shape[0]):\n",
        "  v1_id = df_col.iloc[i, 0]\n",
        "  v2_id = df_col.iloc[i, 1]\n",
        "\n",
        "  # Entreno1\n",
        "  vehicle_train1 = df_scaled[df_scaled['vehicle_id']==v1_id].iloc[:-t]\n",
        "  # np array1\n",
        "  dat_train1 = np.array(vehicle_train1[['latitude(m)','longitude(m)','heading']])\n",
        "  pred_coor1 = fit_and_pred_stack_list(base_models, meta_model, t, num, dat_train1)\n",
        "  y_v1 = minmaxscaler.inverse_transform(pred_coor1.reshape(-1, 3))\n",
        "\n",
        "  # Entreno2\n",
        "  vehicle_train2 = df_scaled[df_scaled['vehicle_id']==v2_id].iloc[:-t]\n",
        "  # np array1\n",
        "  dat_train2 = np.array(vehicle_train2[['latitude(m)','longitude(m)','heading']])\n",
        "  pred_coor2 = fit_and_pred_stack_list(base_models, meta_model, t, num, dat_train2)\n",
        "  y_v2 = minmaxscaler.inverse_transform(pred_coor2.reshape(-1, 3))\n",
        "  try:\n",
        "    start = time.time()\n",
        "    collision_prob = collision_probability(y_v1, y_v2, num_samples=SAMPLES)\n",
        "    total_time = time.time() - start\n",
        "    col_array = np.vstack((col_array,\n",
        "                          np.array([v1_id, v2_id, total_time, collision_prob, 1])))\n",
        "  except ValueError:\n",
        "    continue\n",
        "# Vehiculos que coinciden pero no colisionan\n",
        "for i in range(df_nocol.shape[0]):\n",
        "  v1_id = df_nocol.iloc[i, 0]\n",
        "  v2_id = df_nocol.iloc[i, 1]\n",
        "\n",
        "\n",
        "  # METER Y_PRED:\n",
        "  # Entreno1\n",
        "  vehicle_train1 = df_scaled[df_scaled['vehicle_id']==v1_id].iloc[:-t]\n",
        "  # np array1\n",
        "  dat_train1 = np.array(vehicle_train1[['latitude(m)','longitude(m)','heading']])\n",
        "  pred_coor1 = fit_and_pred_stack_list(base_models, meta_model, t, num, dat_train1)\n",
        "  y_v1 = minmaxscaler.inverse_transform(pred_coor1.reshape(-1, 3))\n",
        "\n",
        "  # Entreno2\n",
        "  vehicle_train2 = df_scaled[df_scaled['vehicle_id']==v2_id].iloc[:-t]\n",
        "  # np array1\n",
        "  dat_train2 = np.array(vehicle_train2[['latitude(m)','longitude(m)','heading']])\n",
        "  pred_coor2 = fit_and_pred_stack_list(base_models, meta_model, t, num, dat_train2)\n",
        "  y_v2 = minmaxscaler.inverse_transform(pred_coor2.reshape(-1, 3))\n",
        "\n",
        "  try:\n",
        "    start = time.time()\n",
        "    collision_prob = collision_probability(y_v1, y_v2, num_samples=SAMPLES)\n",
        "    total_time = time.time() - start\n",
        "    col_array = np.vstack((col_array,\n",
        "                          np.array([v1_id, v2_id, total_time, collision_prob, 0])))\n",
        "  except ValueError:\n",
        "    continue\n",
        "MODEL_FOLDER = os.path.join(\"TFM\", \"implementation\")\n",
        "PROB_FILE = os.path.join(MODEL_FOLDER, \"collision_prob_scaled_pred_1_300.csv\")\n",
        "df_collision_prob_scaled_pred_1_300 = pd.DataFrame(\n",
        "    col_array.reshape(-1, 5),\n",
        "    columns=['vehicle1', 'vehicle2', 'execution_time', 'probability', 'collision'])\n",
        "df_collision_prob_scaled_pred_1_300.to_csv(PROB_FILE, index=False)"
      ],
      "metadata": {
        "id": "YVdIsukiK8lc"
      },
      "execution_count": null,
      "outputs": []
    },
    {
      "cell_type": "code",
      "source": [
        "MODEL_FOLDER = os.path.join(\"TFM\", \"implementation\")\n",
        "PROB_FILE = os.path.join(MODEL_FOLDER, \"collision_prob_scaled_pred_1_300.csv\")\n",
        "df_collision_prob_scaled_pred_1_300 = pd.read_csv(PROB_FILE)"
      ],
      "metadata": {
        "id": "wzGfzPjBnuvS"
      },
      "execution_count": null,
      "outputs": []
    },
    {
      "cell_type": "code",
      "source": [
        "collisions = df_collision_prob_scaled_pred_1_300[df_collision_prob_scaled_pred_1_300['collision'] == 1]\n",
        "no_collisions = df_collision_prob_scaled_pred_1_300[df_collision_prob_scaled_pred_1_300['collision'] == 0]\n",
        "\n",
        "print(\"Probabilidad media de colision para las colisiones: {}\"\n",
        "      .format(np.mean(collisions['probability'])))\n",
        "print(\"Probabilidad media de colision para las no-colisiones: {}\"\n",
        "      .format(np.mean(no_collisions['probability'])))\n",
        "\n",
        "print(\"Tiempo medio de ejecuion para las colisiones: {}\"\n",
        "      .format(np.mean(collisions['execution_time'])))\n",
        "print(\"Tiempo medio de ejecuion para las no-colisiones: {}\"\n",
        "      .format(np.mean(no_collisions['execution_time'])))"
      ],
      "metadata": {
        "colab": {
          "base_uri": "https://localhost:8080/"
        },
        "id": "IuGonkC9Lu6V",
        "outputId": "51545507-6e5e-4dd5-bcf8-98a17494b8ef"
      },
      "execution_count": null,
      "outputs": [
        {
          "output_type": "stream",
          "name": "stdout",
          "text": [
            "Probabilidad media de colision para las colisiones: 0.01772105438772105\n",
            "Probabilidad media de colision para las no-colisiones: 0.002225558892225559\n",
            "Tiempo medio de ejecuion para las colisiones: 0.8521517380341157\n",
            "Tiempo medio de ejecuion para las no-colisiones: 0.7262148582660878\n"
          ]
        }
      ]
    },
    {
      "cell_type": "code",
      "source": [
        "collisions['probability'].describe()"
      ],
      "metadata": {
        "colab": {
          "base_uri": "https://localhost:8080/"
        },
        "id": "zRIEvHRML0Ct",
        "outputId": "150373c4-383f-45cd-e26e-de0721191345"
      },
      "execution_count": null,
      "outputs": [
        {
          "output_type": "execute_result",
          "data": {
            "text/plain": [
              "count    999.000000\n",
              "mean       0.017721\n",
              "std        0.094158\n",
              "min        0.000000\n",
              "25%        0.000000\n",
              "50%        0.000000\n",
              "75%        0.000000\n",
              "max        1.000000\n",
              "Name: probability, dtype: float64"
            ]
          },
          "metadata": {},
          "execution_count": 25
        }
      ]
    },
    {
      "cell_type": "code",
      "source": [
        "no_collisions['probability'].describe()"
      ],
      "metadata": {
        "colab": {
          "base_uri": "https://localhost:8080/"
        },
        "id": "BlhgKemwL2PD",
        "outputId": "0306c18c-e95f-474e-926d-cb8616664206"
      },
      "execution_count": null,
      "outputs": [
        {
          "output_type": "execute_result",
          "data": {
            "text/plain": [
              "count    999.000000\n",
              "mean       0.002226\n",
              "std        0.039658\n",
              "min        0.000000\n",
              "25%        0.000000\n",
              "50%        0.000000\n",
              "75%        0.000000\n",
              "max        0.980000\n",
              "Name: probability, dtype: float64"
            ]
          },
          "metadata": {},
          "execution_count": 26
        }
      ]
    },
    {
      "cell_type": "code",
      "source": [
        "collision_threshold = 0.01\n",
        "\n",
        "print(\"Valores por encima de la media en las colisiones: {}\"\n",
        "      .format(len(collisions[collisions['probability'] >= collision_threshold])))\n",
        "print(\"Valores por debajo de la media en las colisiones: {}\"\n",
        "      .format(len(collisions[collisions['probability'] < collision_threshold])))\n",
        "\n",
        "print(\"Valores por encima de la media en las no-colisiones: {}\"\n",
        "      .format(len(no_collisions[no_collisions['probability'] >= collision_threshold])))\n",
        "print(\"Valores por debajo de la media en las no-colisiones: {}\"\n",
        "      .format(len(no_collisions[no_collisions['probability'] < collision_threshold])))"
      ],
      "metadata": {
        "colab": {
          "base_uri": "https://localhost:8080/"
        },
        "id": "fSdvIyiHL-fK",
        "outputId": "69ec0d2c-15cb-41db-c348-9615be162087"
      },
      "execution_count": null,
      "outputs": [
        {
          "output_type": "stream",
          "name": "stdout",
          "text": [
            "Valores por encima de la media en las colisiones: 91\n",
            "Valores por debajo de la media en las colisiones: 908\n",
            "Valores por encima de la media en las no-colisiones: 7\n",
            "Valores por debajo de la media en las no-colisiones: 992\n"
          ]
        }
      ]
    },
    {
      "cell_type": "code",
      "source": [
        "data_prob = [collisions['probability'], no_collisions['probability']]\n",
        "data_time = [collisions['execution_time'], no_collisions['execution_time']]\n",
        "\n",
        "fig, ax = plt.subplots(nrows=1, ncols=2, figsize=(15, 8))\n",
        "ax[0].boxplot(data_prob, showmeans=True, patch_artist = True,\n",
        "              labels=['Yes', 'No'])\n",
        "ax[0].set_title(\"Colision probability (predicted trajectories)\")\n",
        "ax[0].set_xlabel(\"Collision\")\n",
        "\n",
        "ax[1].boxplot(data_time, showmeans=True, patch_artist = True,\n",
        "              labels=['Yes', 'No'])\n",
        "ax[1].set_title(\"Execution time (predicted trajectories)\")\n",
        "ax[1].set_xlabel(\"Collision\")\n",
        "plt.show()"
      ],
      "metadata": {
        "colab": {
          "base_uri": "https://localhost:8080/",
          "height": 718
        },
        "id": "Qv1kLk6xMAjv",
        "outputId": "5146885e-b16d-4ad4-9e8c-ef5828412445"
      },
      "execution_count": null,
      "outputs": [
        {
          "output_type": "display_data",
          "data": {
            "text/plain": [
              "<Figure size 1500x800 with 2 Axes>"
            ],
            "image/png": "[encoded data removed]"
          },
          "metadata": {}
        }
      ]
    }
  ],
  "metadata": {
    "colab": {
      "collapsed_sections": [
        "ngj0gB5jCpmr",
        "Imolf9USEhB7",
        "YdgDlhnvxdad",
        "UB_-_qO9xOtI",
        "PZGPs7emEymi",
        "XPaQQFkaxTyQ",
        "kfmtKE8c4dC5",
        "5k_YXkZuFEo7",
        "PztL6ycHFOsS",
        "sfsG97xnICsm",
        "ouK7e9IQMEYi",
        "vY4o24zeLUwV",
        "YVO32tiaMXpq",
        "EI6zON9HK6ux"
      ],
      "provenance": []
    },
    "kernelspec": {
      "display_name": "Python 3",
      "name": "python3"
    },
    "language_info": {
      "name": "python"
    }
  },
  "nbformat": 4,
  "nbformat_minor": 0
}